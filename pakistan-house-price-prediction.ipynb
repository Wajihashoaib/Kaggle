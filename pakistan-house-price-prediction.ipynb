{
 "cells": [
  {
   "cell_type": "markdown",
   "id": "dfdf1dd1",
   "metadata": {
    "papermill": {
     "duration": 0.014315,
     "end_time": "2022-09-24T02:56:27.337265",
     "exception": false,
     "start_time": "2022-09-24T02:56:27.322950",
     "status": "completed"
    },
    "tags": []
   },
   "source": [
    "# House Price Prediction Using Linear Regression and KNN"
   ]
  },
  {
   "cell_type": "markdown",
   "id": "26191af9",
   "metadata": {
    "papermill": {
     "duration": 0.012553,
     "end_time": "2022-09-24T02:56:27.363006",
     "exception": false,
     "start_time": "2022-09-24T02:56:27.350453",
     "status": "completed"
    },
    "tags": []
   },
   "source": [
    "# Importing Libraries "
   ]
  },
  {
   "cell_type": "code",
   "execution_count": 1,
   "id": "659bc733",
   "metadata": {
    "execution": {
     "iopub.execute_input": "2022-09-24T02:56:27.398169Z",
     "iopub.status.busy": "2022-09-24T02:56:27.396560Z",
     "iopub.status.idle": "2022-09-24T02:56:29.015670Z",
     "shell.execute_reply": "2022-09-24T02:56:29.014134Z"
    },
    "papermill": {
     "duration": 1.643142,
     "end_time": "2022-09-24T02:56:29.019071",
     "exception": false,
     "start_time": "2022-09-24T02:56:27.375929",
     "status": "completed"
    },
    "tags": []
   },
   "outputs": [],
   "source": [
    "import pandas as pd\n",
    "import numpy as np\n",
    "import seaborn as sns\n",
    "import matplotlib.pyplot as plt\n",
    "from sklearn.linear_model import LinearRegression\n",
    "from sklearn.model_selection import train_test_split\n",
    "from sklearn.metrics import mean_absolute_error, mean_squared_error , r2_score"
   ]
  },
  {
   "cell_type": "code",
   "execution_count": 2,
   "id": "99225488",
   "metadata": {
    "execution": {
     "iopub.execute_input": "2022-09-24T02:56:29.048509Z",
     "iopub.status.busy": "2022-09-24T02:56:29.048023Z",
     "iopub.status.idle": "2022-09-24T02:56:30.698209Z",
     "shell.execute_reply": "2022-09-24T02:56:30.696801Z"
    },
    "papermill": {
     "duration": 1.668874,
     "end_time": "2022-09-24T02:56:30.701515",
     "exception": false,
     "start_time": "2022-09-24T02:56:29.032641",
     "status": "completed"
    },
    "tags": []
   },
   "outputs": [],
   "source": [
    "df = pd.read_csv('../input/pakistan-house-price-prediction/Entities.csv')"
   ]
  },
  {
   "cell_type": "code",
   "execution_count": 3,
   "id": "169e8a29",
   "metadata": {
    "execution": {
     "iopub.execute_input": "2022-09-24T02:56:30.730545Z",
     "iopub.status.busy": "2022-09-24T02:56:30.729351Z",
     "iopub.status.idle": "2022-09-24T02:56:30.834954Z",
     "shell.execute_reply": "2022-09-24T02:56:30.833277Z"
    },
    "papermill": {
     "duration": 0.123451,
     "end_time": "2022-09-24T02:56:30.838153",
     "exception": false,
     "start_time": "2022-09-24T02:56:30.714702",
     "status": "completed"
    },
    "tags": []
   },
   "outputs": [
    {
     "name": "stdout",
     "output_type": "stream",
     "text": [
      "<class 'pandas.core.frame.DataFrame'>\n",
      "RangeIndex: 168446 entries, 0 to 168445\n",
      "Data columns (total 18 columns):\n",
      " #   Column         Non-Null Count   Dtype  \n",
      "---  ------         --------------   -----  \n",
      " 0   Unnamed: 0     168446 non-null  int64  \n",
      " 1   property_id    168446 non-null  int64  \n",
      " 2   location_id    168446 non-null  int64  \n",
      " 3   page_url       168446 non-null  object \n",
      " 4   property_type  168446 non-null  object \n",
      " 5   price          168446 non-null  int64  \n",
      " 6   location       168446 non-null  object \n",
      " 7   city           168446 non-null  object \n",
      " 8   province_name  168446 non-null  object \n",
      " 9   latitude       168446 non-null  float64\n",
      " 10  longitude      168446 non-null  float64\n",
      " 11  baths          168446 non-null  int64  \n",
      " 12  purpose        168446 non-null  object \n",
      " 13  bedrooms       168446 non-null  int64  \n",
      " 14  date_added     168446 non-null  object \n",
      " 15  agency         124375 non-null  object \n",
      " 16  agent          124374 non-null  object \n",
      " 17  Total_Area     168446 non-null  float64\n",
      "dtypes: float64(3), int64(6), object(9)\n",
      "memory usage: 23.1+ MB\n"
     ]
    }
   ],
   "source": [
    "df.info()"
   ]
  },
  {
   "cell_type": "code",
   "execution_count": 4,
   "id": "1cf2ed5c",
   "metadata": {
    "execution": {
     "iopub.execute_input": "2022-09-24T02:56:30.866457Z",
     "iopub.status.busy": "2022-09-24T02:56:30.865903Z",
     "iopub.status.idle": "2022-09-24T02:56:30.896147Z",
     "shell.execute_reply": "2022-09-24T02:56:30.894797Z"
    },
    "papermill": {
     "duration": 0.047902,
     "end_time": "2022-09-24T02:56:30.899166",
     "exception": false,
     "start_time": "2022-09-24T02:56:30.851264",
     "status": "completed"
    },
    "tags": []
   },
   "outputs": [
    {
     "data": {
      "text/html": [
       "<div>\n",
       "<style scoped>\n",
       "    .dataframe tbody tr th:only-of-type {\n",
       "        vertical-align: middle;\n",
       "    }\n",
       "\n",
       "    .dataframe tbody tr th {\n",
       "        vertical-align: top;\n",
       "    }\n",
       "\n",
       "    .dataframe thead th {\n",
       "        text-align: right;\n",
       "    }\n",
       "</style>\n",
       "<table border=\"1\" class=\"dataframe\">\n",
       "  <thead>\n",
       "    <tr style=\"text-align: right;\">\n",
       "      <th></th>\n",
       "      <th>Unnamed: 0</th>\n",
       "      <th>property_id</th>\n",
       "      <th>location_id</th>\n",
       "      <th>page_url</th>\n",
       "      <th>property_type</th>\n",
       "      <th>price</th>\n",
       "      <th>location</th>\n",
       "      <th>city</th>\n",
       "      <th>province_name</th>\n",
       "      <th>latitude</th>\n",
       "      <th>longitude</th>\n",
       "      <th>baths</th>\n",
       "      <th>purpose</th>\n",
       "      <th>bedrooms</th>\n",
       "      <th>date_added</th>\n",
       "      <th>agency</th>\n",
       "      <th>agent</th>\n",
       "      <th>Total_Area</th>\n",
       "    </tr>\n",
       "  </thead>\n",
       "  <tbody>\n",
       "    <tr>\n",
       "      <th>0</th>\n",
       "      <td>0</td>\n",
       "      <td>237062</td>\n",
       "      <td>3325</td>\n",
       "      <td>https://www.zameen.com/Property/g_10_g_10_2_gr...</td>\n",
       "      <td>Flat</td>\n",
       "      <td>10000000</td>\n",
       "      <td>G-10</td>\n",
       "      <td>Islamabad</td>\n",
       "      <td>Islamabad Capital</td>\n",
       "      <td>33.679890</td>\n",
       "      <td>73.012640</td>\n",
       "      <td>2</td>\n",
       "      <td>For Sale</td>\n",
       "      <td>2</td>\n",
       "      <td>2/4/2019</td>\n",
       "      <td>NaN</td>\n",
       "      <td>NaN</td>\n",
       "      <td>1089.004</td>\n",
       "    </tr>\n",
       "    <tr>\n",
       "      <th>1</th>\n",
       "      <td>1</td>\n",
       "      <td>346905</td>\n",
       "      <td>3236</td>\n",
       "      <td>https://www.zameen.com/Property/e_11_2_service...</td>\n",
       "      <td>Flat</td>\n",
       "      <td>6900000</td>\n",
       "      <td>E-11</td>\n",
       "      <td>Islamabad</td>\n",
       "      <td>Islamabad Capital</td>\n",
       "      <td>33.700993</td>\n",
       "      <td>72.971492</td>\n",
       "      <td>3</td>\n",
       "      <td>For Sale</td>\n",
       "      <td>3</td>\n",
       "      <td>5/4/2019</td>\n",
       "      <td>NaN</td>\n",
       "      <td>NaN</td>\n",
       "      <td>15246.056</td>\n",
       "    </tr>\n",
       "    <tr>\n",
       "      <th>2</th>\n",
       "      <td>2</td>\n",
       "      <td>386513</td>\n",
       "      <td>764</td>\n",
       "      <td>https://www.zameen.com/Property/islamabad_g_15...</td>\n",
       "      <td>House</td>\n",
       "      <td>16500000</td>\n",
       "      <td>G-15</td>\n",
       "      <td>Islamabad</td>\n",
       "      <td>Islamabad Capital</td>\n",
       "      <td>33.631486</td>\n",
       "      <td>72.926559</td>\n",
       "      <td>6</td>\n",
       "      <td>For Sale</td>\n",
       "      <td>5</td>\n",
       "      <td>7/17/2019</td>\n",
       "      <td>NaN</td>\n",
       "      <td>NaN</td>\n",
       "      <td>2178.008</td>\n",
       "    </tr>\n",
       "    <tr>\n",
       "      <th>3</th>\n",
       "      <td>3</td>\n",
       "      <td>656161</td>\n",
       "      <td>340</td>\n",
       "      <td>https://www.zameen.com/Property/islamabad_bani...</td>\n",
       "      <td>House</td>\n",
       "      <td>43500000</td>\n",
       "      <td>Bani Gala</td>\n",
       "      <td>Islamabad</td>\n",
       "      <td>Islamabad Capital</td>\n",
       "      <td>33.707573</td>\n",
       "      <td>73.151199</td>\n",
       "      <td>4</td>\n",
       "      <td>For Sale</td>\n",
       "      <td>4</td>\n",
       "      <td>4/5/2019</td>\n",
       "      <td>NaN</td>\n",
       "      <td>NaN</td>\n",
       "      <td>10890.000</td>\n",
       "    </tr>\n",
       "    <tr>\n",
       "      <th>4</th>\n",
       "      <td>4</td>\n",
       "      <td>841645</td>\n",
       "      <td>3226</td>\n",
       "      <td>https://www.zameen.com/Property/dha_valley_dha...</td>\n",
       "      <td>House</td>\n",
       "      <td>7000000</td>\n",
       "      <td>DHA Defence</td>\n",
       "      <td>Islamabad</td>\n",
       "      <td>Islamabad Capital</td>\n",
       "      <td>33.492591</td>\n",
       "      <td>73.301339</td>\n",
       "      <td>3</td>\n",
       "      <td>For Sale</td>\n",
       "      <td>3</td>\n",
       "      <td>7/10/2019</td>\n",
       "      <td>Easy Property</td>\n",
       "      <td>Muhammad Junaid Ceo Muhammad Shahid Director</td>\n",
       "      <td>2178.008</td>\n",
       "    </tr>\n",
       "  </tbody>\n",
       "</table>\n",
       "</div>"
      ],
      "text/plain": [
       "   Unnamed: 0  property_id  location_id  \\\n",
       "0           0       237062         3325   \n",
       "1           1       346905         3236   \n",
       "2           2       386513          764   \n",
       "3           3       656161          340   \n",
       "4           4       841645         3226   \n",
       "\n",
       "                                            page_url property_type     price  \\\n",
       "0  https://www.zameen.com/Property/g_10_g_10_2_gr...          Flat  10000000   \n",
       "1  https://www.zameen.com/Property/e_11_2_service...          Flat   6900000   \n",
       "2  https://www.zameen.com/Property/islamabad_g_15...         House  16500000   \n",
       "3  https://www.zameen.com/Property/islamabad_bani...         House  43500000   \n",
       "4  https://www.zameen.com/Property/dha_valley_dha...         House   7000000   \n",
       "\n",
       "      location       city      province_name   latitude  longitude  baths  \\\n",
       "0         G-10  Islamabad  Islamabad Capital  33.679890  73.012640      2   \n",
       "1         E-11  Islamabad  Islamabad Capital  33.700993  72.971492      3   \n",
       "2         G-15  Islamabad  Islamabad Capital  33.631486  72.926559      6   \n",
       "3    Bani Gala  Islamabad  Islamabad Capital  33.707573  73.151199      4   \n",
       "4  DHA Defence  Islamabad  Islamabad Capital  33.492591  73.301339      3   \n",
       "\n",
       "    purpose  bedrooms date_added         agency  \\\n",
       "0  For Sale         2   2/4/2019            NaN   \n",
       "1  For Sale         3   5/4/2019            NaN   \n",
       "2  For Sale         5  7/17/2019            NaN   \n",
       "3  For Sale         4   4/5/2019            NaN   \n",
       "4  For Sale         3  7/10/2019  Easy Property   \n",
       "\n",
       "                                          agent  Total_Area  \n",
       "0                                           NaN    1089.004  \n",
       "1                                           NaN   15246.056  \n",
       "2                                           NaN    2178.008  \n",
       "3                                           NaN   10890.000  \n",
       "4  Muhammad Junaid Ceo Muhammad Shahid Director    2178.008  "
      ]
     },
     "execution_count": 4,
     "metadata": {},
     "output_type": "execute_result"
    }
   ],
   "source": [
    "df.head()"
   ]
  },
  {
   "cell_type": "markdown",
   "id": "fd3582b2",
   "metadata": {
    "papermill": {
     "duration": 0.013018,
     "end_time": "2022-09-24T02:56:30.926069",
     "exception": false,
     "start_time": "2022-09-24T02:56:30.913051",
     "status": "completed"
    },
    "tags": []
   },
   "source": [
    "# Missing Values"
   ]
  },
  {
   "cell_type": "code",
   "execution_count": 5,
   "id": "21686a9c",
   "metadata": {
    "execution": {
     "iopub.execute_input": "2022-09-24T02:56:30.957113Z",
     "iopub.status.busy": "2022-09-24T02:56:30.955859Z",
     "iopub.status.idle": "2022-09-24T02:56:31.042595Z",
     "shell.execute_reply": "2022-09-24T02:56:31.041204Z"
    },
    "papermill": {
     "duration": 0.105141,
     "end_time": "2022-09-24T02:56:31.045507",
     "exception": false,
     "start_time": "2022-09-24T02:56:30.940366",
     "status": "completed"
    },
    "tags": []
   },
   "outputs": [
    {
     "data": {
      "text/plain": [
       "Unnamed: 0           0\n",
       "property_id          0\n",
       "location_id          0\n",
       "page_url             0\n",
       "property_type        0\n",
       "price                0\n",
       "location             0\n",
       "city                 0\n",
       "province_name        0\n",
       "latitude             0\n",
       "longitude            0\n",
       "baths                0\n",
       "purpose              0\n",
       "bedrooms             0\n",
       "date_added           0\n",
       "agency           44071\n",
       "agent            44072\n",
       "Total_Area           0\n",
       "dtype: int64"
      ]
     },
     "execution_count": 5,
     "metadata": {},
     "output_type": "execute_result"
    }
   ],
   "source": [
    "df.isnull().sum()"
   ]
  },
  {
   "cell_type": "markdown",
   "id": "a39e4800",
   "metadata": {
    "papermill": {
     "duration": 0.013044,
     "end_time": "2022-09-24T02:56:31.072163",
     "exception": false,
     "start_time": "2022-09-24T02:56:31.059119",
     "status": "completed"
    },
    "tags": []
   },
   "source": [
    " **Property_id and location_id can be dropped because  it doesn't carry important information**"
   ]
  },
  {
   "cell_type": "code",
   "execution_count": 6,
   "id": "b78c458b",
   "metadata": {
    "execution": {
     "iopub.execute_input": "2022-09-24T02:56:31.101248Z",
     "iopub.status.busy": "2022-09-24T02:56:31.100753Z",
     "iopub.status.idle": "2022-09-24T02:56:31.138604Z",
     "shell.execute_reply": "2022-09-24T02:56:31.137557Z"
    },
    "papermill": {
     "duration": 0.056285,
     "end_time": "2022-09-24T02:56:31.141889",
     "exception": false,
     "start_time": "2022-09-24T02:56:31.085604",
     "status": "completed"
    },
    "tags": []
   },
   "outputs": [],
   "source": [
    "df.drop(['Unnamed: 0' , 'property_id' , 'location_id'] , axis = 1 , inplace = True)"
   ]
  },
  {
   "cell_type": "markdown",
   "id": "d59fa7a1",
   "metadata": {
    "papermill": {
     "duration": 0.012974,
     "end_time": "2022-09-24T02:56:31.168411",
     "exception": false,
     "start_time": "2022-09-24T02:56:31.155437",
     "status": "completed"
    },
    "tags": []
   },
   "source": [
    "**Page Url is just for reference so it is also not important**"
   ]
  },
  {
   "cell_type": "code",
   "execution_count": 7,
   "id": "4bdddcfc",
   "metadata": {
    "execution": {
     "iopub.execute_input": "2022-09-24T02:56:31.197439Z",
     "iopub.status.busy": "2022-09-24T02:56:31.196907Z",
     "iopub.status.idle": "2022-09-24T02:56:31.243374Z",
     "shell.execute_reply": "2022-09-24T02:56:31.242286Z"
    },
    "papermill": {
     "duration": 0.064416,
     "end_time": "2022-09-24T02:56:31.246204",
     "exception": false,
     "start_time": "2022-09-24T02:56:31.181788",
     "status": "completed"
    },
    "tags": []
   },
   "outputs": [],
   "source": [
    "df.drop(['page_url'] , axis = 1 , inplace = True)"
   ]
  },
  {
   "cell_type": "markdown",
   "id": "e1b87047",
   "metadata": {
    "papermill": {
     "duration": 0.012891,
     "end_time": "2022-09-24T02:56:31.272554",
     "exception": false,
     "start_time": "2022-09-24T02:56:31.259663",
     "status": "completed"
    },
    "tags": []
   },
   "source": [
    "**longitude and latitude is available so we can drop location**"
   ]
  },
  {
   "cell_type": "code",
   "execution_count": 8,
   "id": "99fae6ae",
   "metadata": {
    "execution": {
     "iopub.execute_input": "2022-09-24T02:56:31.301896Z",
     "iopub.status.busy": "2022-09-24T02:56:31.300763Z",
     "iopub.status.idle": "2022-09-24T02:56:31.331729Z",
     "shell.execute_reply": "2022-09-24T02:56:31.330389Z"
    },
    "papermill": {
     "duration": 0.048906,
     "end_time": "2022-09-24T02:56:31.334754",
     "exception": false,
     "start_time": "2022-09-24T02:56:31.285848",
     "status": "completed"
    },
    "tags": []
   },
   "outputs": [],
   "source": [
    "df.drop(['location'],axis=1 , inplace = True)"
   ]
  },
  {
   "cell_type": "markdown",
   "id": "aab2eb76",
   "metadata": {
    "papermill": {
     "duration": 0.013161,
     "end_time": "2022-09-24T02:56:31.361455",
     "exception": false,
     "start_time": "2022-09-24T02:56:31.348294",
     "status": "completed"
    },
    "tags": []
   },
   "source": [
    "**'agency' and 'agent' conatin very less data so it can also be dropped**"
   ]
  },
  {
   "cell_type": "code",
   "execution_count": 9,
   "id": "08d17939",
   "metadata": {
    "execution": {
     "iopub.execute_input": "2022-09-24T02:56:31.390481Z",
     "iopub.status.busy": "2022-09-24T02:56:31.389949Z",
     "iopub.status.idle": "2022-09-24T02:56:31.418087Z",
     "shell.execute_reply": "2022-09-24T02:56:31.416586Z"
    },
    "papermill": {
     "duration": 0.046683,
     "end_time": "2022-09-24T02:56:31.421657",
     "exception": false,
     "start_time": "2022-09-24T02:56:31.374974",
     "status": "completed"
    },
    "tags": []
   },
   "outputs": [],
   "source": [
    "df.drop(['agency' , 'agent'],axis=1 , inplace = True)"
   ]
  },
  {
   "cell_type": "markdown",
   "id": "bf00c009",
   "metadata": {
    "papermill": {
     "duration": 0.013014,
     "end_time": "2022-09-24T02:56:31.448274",
     "exception": false,
     "start_time": "2022-09-24T02:56:31.435260",
     "status": "completed"
    },
    "tags": []
   },
   "source": [
    "# **Now For Categorical data**"
   ]
  },
  {
   "cell_type": "code",
   "execution_count": 10,
   "id": "592b1b74",
   "metadata": {
    "execution": {
     "iopub.execute_input": "2022-09-24T02:56:31.477558Z",
     "iopub.status.busy": "2022-09-24T02:56:31.476656Z",
     "iopub.status.idle": "2022-09-24T02:56:31.497524Z",
     "shell.execute_reply": "2022-09-24T02:56:31.496223Z"
    },
    "papermill": {
     "duration": 0.038674,
     "end_time": "2022-09-24T02:56:31.500286",
     "exception": false,
     "start_time": "2022-09-24T02:56:31.461612",
     "status": "completed"
    },
    "tags": []
   },
   "outputs": [
    {
     "data": {
      "text/plain": [
       "Karachi       60484\n",
       "Lahore        41427\n",
       "Islamabad     37426\n",
       "Rawalpindi    20976\n",
       "Faisalabad     8133\n",
       "Name: city, dtype: int64"
      ]
     },
     "execution_count": 10,
     "metadata": {},
     "output_type": "execute_result"
    }
   ],
   "source": [
    "df.city.value_counts()"
   ]
  },
  {
   "cell_type": "code",
   "execution_count": 11,
   "id": "5a34ef1e",
   "metadata": {
    "execution": {
     "iopub.execute_input": "2022-09-24T02:56:31.531647Z",
     "iopub.status.busy": "2022-09-24T02:56:31.529936Z",
     "iopub.status.idle": "2022-09-24T02:56:31.592359Z",
     "shell.execute_reply": "2022-09-24T02:56:31.590977Z"
    },
    "papermill": {
     "duration": 0.081682,
     "end_time": "2022-09-24T02:56:31.595520",
     "exception": false,
     "start_time": "2022-09-24T02:56:31.513838",
     "status": "completed"
    },
    "tags": []
   },
   "outputs": [],
   "source": [
    "dff = pd.get_dummies(df , columns= ['city'] , prefix = 'C')"
   ]
  },
  {
   "cell_type": "code",
   "execution_count": 12,
   "id": "a496978b",
   "metadata": {
    "execution": {
     "iopub.execute_input": "2022-09-24T02:56:31.625298Z",
     "iopub.status.busy": "2022-09-24T02:56:31.624799Z",
     "iopub.status.idle": "2022-09-24T02:56:31.644520Z",
     "shell.execute_reply": "2022-09-24T02:56:31.642917Z"
    },
    "papermill": {
     "duration": 0.038144,
     "end_time": "2022-09-24T02:56:31.647312",
     "exception": false,
     "start_time": "2022-09-24T02:56:31.609168",
     "status": "completed"
    },
    "tags": []
   },
   "outputs": [
    {
     "data": {
      "text/html": [
       "<div>\n",
       "<style scoped>\n",
       "    .dataframe tbody tr th:only-of-type {\n",
       "        vertical-align: middle;\n",
       "    }\n",
       "\n",
       "    .dataframe tbody tr th {\n",
       "        vertical-align: top;\n",
       "    }\n",
       "\n",
       "    .dataframe thead th {\n",
       "        text-align: right;\n",
       "    }\n",
       "</style>\n",
       "<table border=\"1\" class=\"dataframe\">\n",
       "  <thead>\n",
       "    <tr style=\"text-align: right;\">\n",
       "      <th></th>\n",
       "      <th>property_type</th>\n",
       "      <th>price</th>\n",
       "      <th>province_name</th>\n",
       "      <th>latitude</th>\n",
       "      <th>longitude</th>\n",
       "      <th>baths</th>\n",
       "      <th>purpose</th>\n",
       "      <th>bedrooms</th>\n",
       "      <th>date_added</th>\n",
       "      <th>Total_Area</th>\n",
       "      <th>C_Faisalabad</th>\n",
       "      <th>C_Islamabad</th>\n",
       "      <th>C_Karachi</th>\n",
       "      <th>C_Lahore</th>\n",
       "      <th>C_Rawalpindi</th>\n",
       "    </tr>\n",
       "  </thead>\n",
       "  <tbody>\n",
       "    <tr>\n",
       "      <th>0</th>\n",
       "      <td>Flat</td>\n",
       "      <td>10000000</td>\n",
       "      <td>Islamabad Capital</td>\n",
       "      <td>33.679890</td>\n",
       "      <td>73.012640</td>\n",
       "      <td>2</td>\n",
       "      <td>For Sale</td>\n",
       "      <td>2</td>\n",
       "      <td>2/4/2019</td>\n",
       "      <td>1089.004</td>\n",
       "      <td>0</td>\n",
       "      <td>1</td>\n",
       "      <td>0</td>\n",
       "      <td>0</td>\n",
       "      <td>0</td>\n",
       "    </tr>\n",
       "    <tr>\n",
       "      <th>1</th>\n",
       "      <td>Flat</td>\n",
       "      <td>6900000</td>\n",
       "      <td>Islamabad Capital</td>\n",
       "      <td>33.700993</td>\n",
       "      <td>72.971492</td>\n",
       "      <td>3</td>\n",
       "      <td>For Sale</td>\n",
       "      <td>3</td>\n",
       "      <td>5/4/2019</td>\n",
       "      <td>15246.056</td>\n",
       "      <td>0</td>\n",
       "      <td>1</td>\n",
       "      <td>0</td>\n",
       "      <td>0</td>\n",
       "      <td>0</td>\n",
       "    </tr>\n",
       "    <tr>\n",
       "      <th>2</th>\n",
       "      <td>House</td>\n",
       "      <td>16500000</td>\n",
       "      <td>Islamabad Capital</td>\n",
       "      <td>33.631486</td>\n",
       "      <td>72.926559</td>\n",
       "      <td>6</td>\n",
       "      <td>For Sale</td>\n",
       "      <td>5</td>\n",
       "      <td>7/17/2019</td>\n",
       "      <td>2178.008</td>\n",
       "      <td>0</td>\n",
       "      <td>1</td>\n",
       "      <td>0</td>\n",
       "      <td>0</td>\n",
       "      <td>0</td>\n",
       "    </tr>\n",
       "    <tr>\n",
       "      <th>3</th>\n",
       "      <td>House</td>\n",
       "      <td>43500000</td>\n",
       "      <td>Islamabad Capital</td>\n",
       "      <td>33.707573</td>\n",
       "      <td>73.151199</td>\n",
       "      <td>4</td>\n",
       "      <td>For Sale</td>\n",
       "      <td>4</td>\n",
       "      <td>4/5/2019</td>\n",
       "      <td>10890.000</td>\n",
       "      <td>0</td>\n",
       "      <td>1</td>\n",
       "      <td>0</td>\n",
       "      <td>0</td>\n",
       "      <td>0</td>\n",
       "    </tr>\n",
       "    <tr>\n",
       "      <th>4</th>\n",
       "      <td>House</td>\n",
       "      <td>7000000</td>\n",
       "      <td>Islamabad Capital</td>\n",
       "      <td>33.492591</td>\n",
       "      <td>73.301339</td>\n",
       "      <td>3</td>\n",
       "      <td>For Sale</td>\n",
       "      <td>3</td>\n",
       "      <td>7/10/2019</td>\n",
       "      <td>2178.008</td>\n",
       "      <td>0</td>\n",
       "      <td>1</td>\n",
       "      <td>0</td>\n",
       "      <td>0</td>\n",
       "      <td>0</td>\n",
       "    </tr>\n",
       "  </tbody>\n",
       "</table>\n",
       "</div>"
      ],
      "text/plain": [
       "  property_type     price      province_name   latitude  longitude  baths  \\\n",
       "0          Flat  10000000  Islamabad Capital  33.679890  73.012640      2   \n",
       "1          Flat   6900000  Islamabad Capital  33.700993  72.971492      3   \n",
       "2         House  16500000  Islamabad Capital  33.631486  72.926559      6   \n",
       "3         House  43500000  Islamabad Capital  33.707573  73.151199      4   \n",
       "4         House   7000000  Islamabad Capital  33.492591  73.301339      3   \n",
       "\n",
       "    purpose  bedrooms date_added  Total_Area  C_Faisalabad  C_Islamabad  \\\n",
       "0  For Sale         2   2/4/2019    1089.004             0            1   \n",
       "1  For Sale         3   5/4/2019   15246.056             0            1   \n",
       "2  For Sale         5  7/17/2019    2178.008             0            1   \n",
       "3  For Sale         4   4/5/2019   10890.000             0            1   \n",
       "4  For Sale         3  7/10/2019    2178.008             0            1   \n",
       "\n",
       "   C_Karachi  C_Lahore  C_Rawalpindi  \n",
       "0          0         0             0  \n",
       "1          0         0             0  \n",
       "2          0         0             0  \n",
       "3          0         0             0  \n",
       "4          0         0             0  "
      ]
     },
     "execution_count": 12,
     "metadata": {},
     "output_type": "execute_result"
    }
   ],
   "source": [
    "dff.head()"
   ]
  },
  {
   "cell_type": "code",
   "execution_count": 13,
   "id": "1d8d185e",
   "metadata": {
    "execution": {
     "iopub.execute_input": "2022-09-24T02:56:31.677170Z",
     "iopub.status.busy": "2022-09-24T02:56:31.676642Z",
     "iopub.status.idle": "2022-09-24T02:56:31.698358Z",
     "shell.execute_reply": "2022-09-24T02:56:31.697071Z"
    },
    "papermill": {
     "duration": 0.039856,
     "end_time": "2022-09-24T02:56:31.701121",
     "exception": false,
     "start_time": "2022-09-24T02:56:31.661265",
     "status": "completed"
    },
    "tags": []
   },
   "outputs": [
    {
     "data": {
      "text/plain": [
       "Punjab               70536\n",
       "Sindh                60484\n",
       "Islamabad Capital    37426\n",
       "Name: province_name, dtype: int64"
      ]
     },
     "execution_count": 13,
     "metadata": {},
     "output_type": "execute_result"
    }
   ],
   "source": [
    "dff.province_name.value_counts()"
   ]
  },
  {
   "cell_type": "code",
   "execution_count": 14,
   "id": "0fc6e6f7",
   "metadata": {
    "execution": {
     "iopub.execute_input": "2022-09-24T02:56:31.732525Z",
     "iopub.status.busy": "2022-09-24T02:56:31.731544Z",
     "iopub.status.idle": "2022-09-24T02:56:31.825840Z",
     "shell.execute_reply": "2022-09-24T02:56:31.824141Z"
    },
    "papermill": {
     "duration": 0.114264,
     "end_time": "2022-09-24T02:56:31.829672",
     "exception": false,
     "start_time": "2022-09-24T02:56:31.715408",
     "status": "completed"
    },
    "tags": []
   },
   "outputs": [],
   "source": [
    "dff1 = pd.get_dummies(dff, columns = ['province_name'] , prefix = 'P')"
   ]
  },
  {
   "cell_type": "code",
   "execution_count": 15,
   "id": "1ca67864",
   "metadata": {
    "execution": {
     "iopub.execute_input": "2022-09-24T02:56:31.861283Z",
     "iopub.status.busy": "2022-09-24T02:56:31.860596Z",
     "iopub.status.idle": "2022-09-24T02:56:31.882999Z",
     "shell.execute_reply": "2022-09-24T02:56:31.881536Z"
    },
    "papermill": {
     "duration": 0.042183,
     "end_time": "2022-09-24T02:56:31.885866",
     "exception": false,
     "start_time": "2022-09-24T02:56:31.843683",
     "status": "completed"
    },
    "tags": []
   },
   "outputs": [
    {
     "data": {
      "text/html": [
       "<div>\n",
       "<style scoped>\n",
       "    .dataframe tbody tr th:only-of-type {\n",
       "        vertical-align: middle;\n",
       "    }\n",
       "\n",
       "    .dataframe tbody tr th {\n",
       "        vertical-align: top;\n",
       "    }\n",
       "\n",
       "    .dataframe thead th {\n",
       "        text-align: right;\n",
       "    }\n",
       "</style>\n",
       "<table border=\"1\" class=\"dataframe\">\n",
       "  <thead>\n",
       "    <tr style=\"text-align: right;\">\n",
       "      <th></th>\n",
       "      <th>property_type</th>\n",
       "      <th>price</th>\n",
       "      <th>latitude</th>\n",
       "      <th>longitude</th>\n",
       "      <th>baths</th>\n",
       "      <th>purpose</th>\n",
       "      <th>bedrooms</th>\n",
       "      <th>date_added</th>\n",
       "      <th>Total_Area</th>\n",
       "      <th>C_Faisalabad</th>\n",
       "      <th>C_Islamabad</th>\n",
       "      <th>C_Karachi</th>\n",
       "      <th>C_Lahore</th>\n",
       "      <th>C_Rawalpindi</th>\n",
       "      <th>P_Islamabad Capital</th>\n",
       "      <th>P_Punjab</th>\n",
       "      <th>P_Sindh</th>\n",
       "    </tr>\n",
       "  </thead>\n",
       "  <tbody>\n",
       "    <tr>\n",
       "      <th>0</th>\n",
       "      <td>Flat</td>\n",
       "      <td>10000000</td>\n",
       "      <td>33.679890</td>\n",
       "      <td>73.012640</td>\n",
       "      <td>2</td>\n",
       "      <td>For Sale</td>\n",
       "      <td>2</td>\n",
       "      <td>2/4/2019</td>\n",
       "      <td>1089.004</td>\n",
       "      <td>0</td>\n",
       "      <td>1</td>\n",
       "      <td>0</td>\n",
       "      <td>0</td>\n",
       "      <td>0</td>\n",
       "      <td>1</td>\n",
       "      <td>0</td>\n",
       "      <td>0</td>\n",
       "    </tr>\n",
       "    <tr>\n",
       "      <th>1</th>\n",
       "      <td>Flat</td>\n",
       "      <td>6900000</td>\n",
       "      <td>33.700993</td>\n",
       "      <td>72.971492</td>\n",
       "      <td>3</td>\n",
       "      <td>For Sale</td>\n",
       "      <td>3</td>\n",
       "      <td>5/4/2019</td>\n",
       "      <td>15246.056</td>\n",
       "      <td>0</td>\n",
       "      <td>1</td>\n",
       "      <td>0</td>\n",
       "      <td>0</td>\n",
       "      <td>0</td>\n",
       "      <td>1</td>\n",
       "      <td>0</td>\n",
       "      <td>0</td>\n",
       "    </tr>\n",
       "    <tr>\n",
       "      <th>2</th>\n",
       "      <td>House</td>\n",
       "      <td>16500000</td>\n",
       "      <td>33.631486</td>\n",
       "      <td>72.926559</td>\n",
       "      <td>6</td>\n",
       "      <td>For Sale</td>\n",
       "      <td>5</td>\n",
       "      <td>7/17/2019</td>\n",
       "      <td>2178.008</td>\n",
       "      <td>0</td>\n",
       "      <td>1</td>\n",
       "      <td>0</td>\n",
       "      <td>0</td>\n",
       "      <td>0</td>\n",
       "      <td>1</td>\n",
       "      <td>0</td>\n",
       "      <td>0</td>\n",
       "    </tr>\n",
       "    <tr>\n",
       "      <th>3</th>\n",
       "      <td>House</td>\n",
       "      <td>43500000</td>\n",
       "      <td>33.707573</td>\n",
       "      <td>73.151199</td>\n",
       "      <td>4</td>\n",
       "      <td>For Sale</td>\n",
       "      <td>4</td>\n",
       "      <td>4/5/2019</td>\n",
       "      <td>10890.000</td>\n",
       "      <td>0</td>\n",
       "      <td>1</td>\n",
       "      <td>0</td>\n",
       "      <td>0</td>\n",
       "      <td>0</td>\n",
       "      <td>1</td>\n",
       "      <td>0</td>\n",
       "      <td>0</td>\n",
       "    </tr>\n",
       "    <tr>\n",
       "      <th>4</th>\n",
       "      <td>House</td>\n",
       "      <td>7000000</td>\n",
       "      <td>33.492591</td>\n",
       "      <td>73.301339</td>\n",
       "      <td>3</td>\n",
       "      <td>For Sale</td>\n",
       "      <td>3</td>\n",
       "      <td>7/10/2019</td>\n",
       "      <td>2178.008</td>\n",
       "      <td>0</td>\n",
       "      <td>1</td>\n",
       "      <td>0</td>\n",
       "      <td>0</td>\n",
       "      <td>0</td>\n",
       "      <td>1</td>\n",
       "      <td>0</td>\n",
       "      <td>0</td>\n",
       "    </tr>\n",
       "  </tbody>\n",
       "</table>\n",
       "</div>"
      ],
      "text/plain": [
       "  property_type     price   latitude  longitude  baths   purpose  bedrooms  \\\n",
       "0          Flat  10000000  33.679890  73.012640      2  For Sale         2   \n",
       "1          Flat   6900000  33.700993  72.971492      3  For Sale         3   \n",
       "2         House  16500000  33.631486  72.926559      6  For Sale         5   \n",
       "3         House  43500000  33.707573  73.151199      4  For Sale         4   \n",
       "4         House   7000000  33.492591  73.301339      3  For Sale         3   \n",
       "\n",
       "  date_added  Total_Area  C_Faisalabad  C_Islamabad  C_Karachi  C_Lahore  \\\n",
       "0   2/4/2019    1089.004             0            1          0         0   \n",
       "1   5/4/2019   15246.056             0            1          0         0   \n",
       "2  7/17/2019    2178.008             0            1          0         0   \n",
       "3   4/5/2019   10890.000             0            1          0         0   \n",
       "4  7/10/2019    2178.008             0            1          0         0   \n",
       "\n",
       "   C_Rawalpindi  P_Islamabad Capital  P_Punjab  P_Sindh  \n",
       "0             0                    1         0        0  \n",
       "1             0                    1         0        0  \n",
       "2             0                    1         0        0  \n",
       "3             0                    1         0        0  \n",
       "4             0                    1         0        0  "
      ]
     },
     "execution_count": 15,
     "metadata": {},
     "output_type": "execute_result"
    }
   ],
   "source": [
    "dff1.head()"
   ]
  },
  {
   "cell_type": "code",
   "execution_count": 16,
   "id": "27127016",
   "metadata": {
    "execution": {
     "iopub.execute_input": "2022-09-24T02:56:31.916557Z",
     "iopub.status.busy": "2022-09-24T02:56:31.916039Z",
     "iopub.status.idle": "2022-09-24T02:56:31.960089Z",
     "shell.execute_reply": "2022-09-24T02:56:31.958588Z"
    },
    "papermill": {
     "duration": 0.063629,
     "end_time": "2022-09-24T02:56:31.963725",
     "exception": false,
     "start_time": "2022-09-24T02:56:31.900096",
     "status": "completed"
    },
    "tags": []
   },
   "outputs": [],
   "source": [
    "dff1.drop(['purpose'] , axis = 1 , inplace = True)"
   ]
  },
  {
   "cell_type": "code",
   "execution_count": 17,
   "id": "535176d9",
   "metadata": {
    "execution": {
     "iopub.execute_input": "2022-09-24T02:56:31.995587Z",
     "iopub.status.busy": "2022-09-24T02:56:31.994396Z",
     "iopub.status.idle": "2022-09-24T02:56:32.014179Z",
     "shell.execute_reply": "2022-09-24T02:56:32.012956Z"
    },
    "papermill": {
     "duration": 0.038046,
     "end_time": "2022-09-24T02:56:32.016800",
     "exception": false,
     "start_time": "2022-09-24T02:56:31.978754",
     "status": "completed"
    },
    "tags": []
   },
   "outputs": [
    {
     "data": {
      "text/html": [
       "<div>\n",
       "<style scoped>\n",
       "    .dataframe tbody tr th:only-of-type {\n",
       "        vertical-align: middle;\n",
       "    }\n",
       "\n",
       "    .dataframe tbody tr th {\n",
       "        vertical-align: top;\n",
       "    }\n",
       "\n",
       "    .dataframe thead th {\n",
       "        text-align: right;\n",
       "    }\n",
       "</style>\n",
       "<table border=\"1\" class=\"dataframe\">\n",
       "  <thead>\n",
       "    <tr style=\"text-align: right;\">\n",
       "      <th></th>\n",
       "      <th>property_type</th>\n",
       "      <th>price</th>\n",
       "      <th>latitude</th>\n",
       "      <th>longitude</th>\n",
       "      <th>baths</th>\n",
       "      <th>bedrooms</th>\n",
       "      <th>date_added</th>\n",
       "      <th>Total_Area</th>\n",
       "      <th>C_Faisalabad</th>\n",
       "      <th>C_Islamabad</th>\n",
       "      <th>C_Karachi</th>\n",
       "      <th>C_Lahore</th>\n",
       "      <th>C_Rawalpindi</th>\n",
       "      <th>P_Islamabad Capital</th>\n",
       "      <th>P_Punjab</th>\n",
       "      <th>P_Sindh</th>\n",
       "    </tr>\n",
       "  </thead>\n",
       "  <tbody>\n",
       "    <tr>\n",
       "      <th>0</th>\n",
       "      <td>Flat</td>\n",
       "      <td>10000000</td>\n",
       "      <td>33.679890</td>\n",
       "      <td>73.012640</td>\n",
       "      <td>2</td>\n",
       "      <td>2</td>\n",
       "      <td>2/4/2019</td>\n",
       "      <td>1089.004</td>\n",
       "      <td>0</td>\n",
       "      <td>1</td>\n",
       "      <td>0</td>\n",
       "      <td>0</td>\n",
       "      <td>0</td>\n",
       "      <td>1</td>\n",
       "      <td>0</td>\n",
       "      <td>0</td>\n",
       "    </tr>\n",
       "    <tr>\n",
       "      <th>1</th>\n",
       "      <td>Flat</td>\n",
       "      <td>6900000</td>\n",
       "      <td>33.700993</td>\n",
       "      <td>72.971492</td>\n",
       "      <td>3</td>\n",
       "      <td>3</td>\n",
       "      <td>5/4/2019</td>\n",
       "      <td>15246.056</td>\n",
       "      <td>0</td>\n",
       "      <td>1</td>\n",
       "      <td>0</td>\n",
       "      <td>0</td>\n",
       "      <td>0</td>\n",
       "      <td>1</td>\n",
       "      <td>0</td>\n",
       "      <td>0</td>\n",
       "    </tr>\n",
       "    <tr>\n",
       "      <th>2</th>\n",
       "      <td>House</td>\n",
       "      <td>16500000</td>\n",
       "      <td>33.631486</td>\n",
       "      <td>72.926559</td>\n",
       "      <td>6</td>\n",
       "      <td>5</td>\n",
       "      <td>7/17/2019</td>\n",
       "      <td>2178.008</td>\n",
       "      <td>0</td>\n",
       "      <td>1</td>\n",
       "      <td>0</td>\n",
       "      <td>0</td>\n",
       "      <td>0</td>\n",
       "      <td>1</td>\n",
       "      <td>0</td>\n",
       "      <td>0</td>\n",
       "    </tr>\n",
       "    <tr>\n",
       "      <th>3</th>\n",
       "      <td>House</td>\n",
       "      <td>43500000</td>\n",
       "      <td>33.707573</td>\n",
       "      <td>73.151199</td>\n",
       "      <td>4</td>\n",
       "      <td>4</td>\n",
       "      <td>4/5/2019</td>\n",
       "      <td>10890.000</td>\n",
       "      <td>0</td>\n",
       "      <td>1</td>\n",
       "      <td>0</td>\n",
       "      <td>0</td>\n",
       "      <td>0</td>\n",
       "      <td>1</td>\n",
       "      <td>0</td>\n",
       "      <td>0</td>\n",
       "    </tr>\n",
       "    <tr>\n",
       "      <th>4</th>\n",
       "      <td>House</td>\n",
       "      <td>7000000</td>\n",
       "      <td>33.492591</td>\n",
       "      <td>73.301339</td>\n",
       "      <td>3</td>\n",
       "      <td>3</td>\n",
       "      <td>7/10/2019</td>\n",
       "      <td>2178.008</td>\n",
       "      <td>0</td>\n",
       "      <td>1</td>\n",
       "      <td>0</td>\n",
       "      <td>0</td>\n",
       "      <td>0</td>\n",
       "      <td>1</td>\n",
       "      <td>0</td>\n",
       "      <td>0</td>\n",
       "    </tr>\n",
       "  </tbody>\n",
       "</table>\n",
       "</div>"
      ],
      "text/plain": [
       "  property_type     price   latitude  longitude  baths  bedrooms date_added  \\\n",
       "0          Flat  10000000  33.679890  73.012640      2         2   2/4/2019   \n",
       "1          Flat   6900000  33.700993  72.971492      3         3   5/4/2019   \n",
       "2         House  16500000  33.631486  72.926559      6         5  7/17/2019   \n",
       "3         House  43500000  33.707573  73.151199      4         4   4/5/2019   \n",
       "4         House   7000000  33.492591  73.301339      3         3  7/10/2019   \n",
       "\n",
       "   Total_Area  C_Faisalabad  C_Islamabad  C_Karachi  C_Lahore  C_Rawalpindi  \\\n",
       "0    1089.004             0            1          0         0             0   \n",
       "1   15246.056             0            1          0         0             0   \n",
       "2    2178.008             0            1          0         0             0   \n",
       "3   10890.000             0            1          0         0             0   \n",
       "4    2178.008             0            1          0         0             0   \n",
       "\n",
       "   P_Islamabad Capital  P_Punjab  P_Sindh  \n",
       "0                    1         0        0  \n",
       "1                    1         0        0  \n",
       "2                    1         0        0  \n",
       "3                    1         0        0  \n",
       "4                    1         0        0  "
      ]
     },
     "execution_count": 17,
     "metadata": {},
     "output_type": "execute_result"
    }
   ],
   "source": [
    "dff1.head()"
   ]
  },
  {
   "cell_type": "code",
   "execution_count": 18,
   "id": "64d35d1c",
   "metadata": {
    "execution": {
     "iopub.execute_input": "2022-09-24T02:56:32.048620Z",
     "iopub.status.busy": "2022-09-24T02:56:32.047560Z",
     "iopub.status.idle": "2022-09-24T02:56:32.069092Z",
     "shell.execute_reply": "2022-09-24T02:56:32.067754Z"
    },
    "papermill": {
     "duration": 0.040355,
     "end_time": "2022-09-24T02:56:32.071688",
     "exception": false,
     "start_time": "2022-09-24T02:56:32.031333",
     "status": "completed"
    },
    "tags": []
   },
   "outputs": [
    {
     "data": {
      "text/plain": [
       "House            105468\n",
       "Flat              38238\n",
       "Upper Portion     13774\n",
       "Lower Portion      9229\n",
       "Room                685\n",
       "Farm House          657\n",
       "Penthouse           395\n",
       "Name: property_type, dtype: int64"
      ]
     },
     "execution_count": 18,
     "metadata": {},
     "output_type": "execute_result"
    }
   ],
   "source": [
    "dff1.property_type.value_counts()"
   ]
  },
  {
   "cell_type": "code",
   "execution_count": 19,
   "id": "0039224b",
   "metadata": {
    "execution": {
     "iopub.execute_input": "2022-09-24T02:56:32.104531Z",
     "iopub.status.busy": "2022-09-24T02:56:32.104048Z",
     "iopub.status.idle": "2022-09-24T02:56:32.158419Z",
     "shell.execute_reply": "2022-09-24T02:56:32.157066Z"
    },
    "papermill": {
     "duration": 0.074445,
     "end_time": "2022-09-24T02:56:32.161446",
     "exception": false,
     "start_time": "2022-09-24T02:56:32.087001",
     "status": "completed"
    },
    "tags": []
   },
   "outputs": [],
   "source": [
    "dff2 = pd.get_dummies(dff1, columns = ['property_type'] , prefix = 'P')"
   ]
  },
  {
   "cell_type": "code",
   "execution_count": 20,
   "id": "6e6506fc",
   "metadata": {
    "execution": {
     "iopub.execute_input": "2022-09-24T02:56:32.193453Z",
     "iopub.status.busy": "2022-09-24T02:56:32.192962Z",
     "iopub.status.idle": "2022-09-24T02:56:32.216613Z",
     "shell.execute_reply": "2022-09-24T02:56:32.215574Z"
    },
    "papermill": {
     "duration": 0.042527,
     "end_time": "2022-09-24T02:56:32.218866",
     "exception": false,
     "start_time": "2022-09-24T02:56:32.176339",
     "status": "completed"
    },
    "tags": []
   },
   "outputs": [
    {
     "data": {
      "text/html": [
       "<div>\n",
       "<style scoped>\n",
       "    .dataframe tbody tr th:only-of-type {\n",
       "        vertical-align: middle;\n",
       "    }\n",
       "\n",
       "    .dataframe tbody tr th {\n",
       "        vertical-align: top;\n",
       "    }\n",
       "\n",
       "    .dataframe thead th {\n",
       "        text-align: right;\n",
       "    }\n",
       "</style>\n",
       "<table border=\"1\" class=\"dataframe\">\n",
       "  <thead>\n",
       "    <tr style=\"text-align: right;\">\n",
       "      <th></th>\n",
       "      <th>price</th>\n",
       "      <th>latitude</th>\n",
       "      <th>longitude</th>\n",
       "      <th>baths</th>\n",
       "      <th>bedrooms</th>\n",
       "      <th>date_added</th>\n",
       "      <th>Total_Area</th>\n",
       "      <th>C_Faisalabad</th>\n",
       "      <th>C_Islamabad</th>\n",
       "      <th>C_Karachi</th>\n",
       "      <th>...</th>\n",
       "      <th>P_Islamabad Capital</th>\n",
       "      <th>P_Punjab</th>\n",
       "      <th>P_Sindh</th>\n",
       "      <th>P_Farm House</th>\n",
       "      <th>P_Flat</th>\n",
       "      <th>P_House</th>\n",
       "      <th>P_Lower Portion</th>\n",
       "      <th>P_Penthouse</th>\n",
       "      <th>P_Room</th>\n",
       "      <th>P_Upper Portion</th>\n",
       "    </tr>\n",
       "  </thead>\n",
       "  <tbody>\n",
       "    <tr>\n",
       "      <th>0</th>\n",
       "      <td>10000000</td>\n",
       "      <td>33.679890</td>\n",
       "      <td>73.012640</td>\n",
       "      <td>2</td>\n",
       "      <td>2</td>\n",
       "      <td>2/4/2019</td>\n",
       "      <td>1089.004</td>\n",
       "      <td>0</td>\n",
       "      <td>1</td>\n",
       "      <td>0</td>\n",
       "      <td>...</td>\n",
       "      <td>1</td>\n",
       "      <td>0</td>\n",
       "      <td>0</td>\n",
       "      <td>0</td>\n",
       "      <td>1</td>\n",
       "      <td>0</td>\n",
       "      <td>0</td>\n",
       "      <td>0</td>\n",
       "      <td>0</td>\n",
       "      <td>0</td>\n",
       "    </tr>\n",
       "    <tr>\n",
       "      <th>1</th>\n",
       "      <td>6900000</td>\n",
       "      <td>33.700993</td>\n",
       "      <td>72.971492</td>\n",
       "      <td>3</td>\n",
       "      <td>3</td>\n",
       "      <td>5/4/2019</td>\n",
       "      <td>15246.056</td>\n",
       "      <td>0</td>\n",
       "      <td>1</td>\n",
       "      <td>0</td>\n",
       "      <td>...</td>\n",
       "      <td>1</td>\n",
       "      <td>0</td>\n",
       "      <td>0</td>\n",
       "      <td>0</td>\n",
       "      <td>1</td>\n",
       "      <td>0</td>\n",
       "      <td>0</td>\n",
       "      <td>0</td>\n",
       "      <td>0</td>\n",
       "      <td>0</td>\n",
       "    </tr>\n",
       "    <tr>\n",
       "      <th>2</th>\n",
       "      <td>16500000</td>\n",
       "      <td>33.631486</td>\n",
       "      <td>72.926559</td>\n",
       "      <td>6</td>\n",
       "      <td>5</td>\n",
       "      <td>7/17/2019</td>\n",
       "      <td>2178.008</td>\n",
       "      <td>0</td>\n",
       "      <td>1</td>\n",
       "      <td>0</td>\n",
       "      <td>...</td>\n",
       "      <td>1</td>\n",
       "      <td>0</td>\n",
       "      <td>0</td>\n",
       "      <td>0</td>\n",
       "      <td>0</td>\n",
       "      <td>1</td>\n",
       "      <td>0</td>\n",
       "      <td>0</td>\n",
       "      <td>0</td>\n",
       "      <td>0</td>\n",
       "    </tr>\n",
       "    <tr>\n",
       "      <th>3</th>\n",
       "      <td>43500000</td>\n",
       "      <td>33.707573</td>\n",
       "      <td>73.151199</td>\n",
       "      <td>4</td>\n",
       "      <td>4</td>\n",
       "      <td>4/5/2019</td>\n",
       "      <td>10890.000</td>\n",
       "      <td>0</td>\n",
       "      <td>1</td>\n",
       "      <td>0</td>\n",
       "      <td>...</td>\n",
       "      <td>1</td>\n",
       "      <td>0</td>\n",
       "      <td>0</td>\n",
       "      <td>0</td>\n",
       "      <td>0</td>\n",
       "      <td>1</td>\n",
       "      <td>0</td>\n",
       "      <td>0</td>\n",
       "      <td>0</td>\n",
       "      <td>0</td>\n",
       "    </tr>\n",
       "    <tr>\n",
       "      <th>4</th>\n",
       "      <td>7000000</td>\n",
       "      <td>33.492591</td>\n",
       "      <td>73.301339</td>\n",
       "      <td>3</td>\n",
       "      <td>3</td>\n",
       "      <td>7/10/2019</td>\n",
       "      <td>2178.008</td>\n",
       "      <td>0</td>\n",
       "      <td>1</td>\n",
       "      <td>0</td>\n",
       "      <td>...</td>\n",
       "      <td>1</td>\n",
       "      <td>0</td>\n",
       "      <td>0</td>\n",
       "      <td>0</td>\n",
       "      <td>0</td>\n",
       "      <td>1</td>\n",
       "      <td>0</td>\n",
       "      <td>0</td>\n",
       "      <td>0</td>\n",
       "      <td>0</td>\n",
       "    </tr>\n",
       "  </tbody>\n",
       "</table>\n",
       "<p>5 rows × 22 columns</p>\n",
       "</div>"
      ],
      "text/plain": [
       "      price   latitude  longitude  baths  bedrooms date_added  Total_Area  \\\n",
       "0  10000000  33.679890  73.012640      2         2   2/4/2019    1089.004   \n",
       "1   6900000  33.700993  72.971492      3         3   5/4/2019   15246.056   \n",
       "2  16500000  33.631486  72.926559      6         5  7/17/2019    2178.008   \n",
       "3  43500000  33.707573  73.151199      4         4   4/5/2019   10890.000   \n",
       "4   7000000  33.492591  73.301339      3         3  7/10/2019    2178.008   \n",
       "\n",
       "   C_Faisalabad  C_Islamabad  C_Karachi  ...  P_Islamabad Capital  P_Punjab  \\\n",
       "0             0            1          0  ...                    1         0   \n",
       "1             0            1          0  ...                    1         0   \n",
       "2             0            1          0  ...                    1         0   \n",
       "3             0            1          0  ...                    1         0   \n",
       "4             0            1          0  ...                    1         0   \n",
       "\n",
       "   P_Sindh  P_Farm House  P_Flat  P_House  P_Lower Portion  P_Penthouse  \\\n",
       "0        0             0       1        0                0            0   \n",
       "1        0             0       1        0                0            0   \n",
       "2        0             0       0        1                0            0   \n",
       "3        0             0       0        1                0            0   \n",
       "4        0             0       0        1                0            0   \n",
       "\n",
       "   P_Room  P_Upper Portion  \n",
       "0       0                0  \n",
       "1       0                0  \n",
       "2       0                0  \n",
       "3       0                0  \n",
       "4       0                0  \n",
       "\n",
       "[5 rows x 22 columns]"
      ]
     },
     "execution_count": 20,
     "metadata": {},
     "output_type": "execute_result"
    }
   ],
   "source": [
    "dff2.head()"
   ]
  },
  {
   "cell_type": "code",
   "execution_count": 21,
   "id": "f71c240b",
   "metadata": {
    "execution": {
     "iopub.execute_input": "2022-09-24T02:56:32.252652Z",
     "iopub.status.busy": "2022-09-24T02:56:32.251060Z",
     "iopub.status.idle": "2022-09-24T02:56:44.474919Z",
     "shell.execute_reply": "2022-09-24T02:56:44.473573Z"
    },
    "papermill": {
     "duration": 12.243759,
     "end_time": "2022-09-24T02:56:44.478134",
     "exception": false,
     "start_time": "2022-09-24T02:56:32.234375",
     "status": "completed"
    },
    "tags": []
   },
   "outputs": [],
   "source": [
    "dff2['year'] = pd.DatetimeIndex(dff2['date_added']).year"
   ]
  },
  {
   "cell_type": "code",
   "execution_count": 22,
   "id": "0307d22d",
   "metadata": {
    "execution": {
     "iopub.execute_input": "2022-09-24T02:56:44.511437Z",
     "iopub.status.busy": "2022-09-24T02:56:44.510947Z",
     "iopub.status.idle": "2022-09-24T02:56:44.536119Z",
     "shell.execute_reply": "2022-09-24T02:56:44.534874Z"
    },
    "papermill": {
     "duration": 0.045285,
     "end_time": "2022-09-24T02:56:44.538972",
     "exception": false,
     "start_time": "2022-09-24T02:56:44.493687",
     "status": "completed"
    },
    "tags": []
   },
   "outputs": [
    {
     "data": {
      "text/html": [
       "<div>\n",
       "<style scoped>\n",
       "    .dataframe tbody tr th:only-of-type {\n",
       "        vertical-align: middle;\n",
       "    }\n",
       "\n",
       "    .dataframe tbody tr th {\n",
       "        vertical-align: top;\n",
       "    }\n",
       "\n",
       "    .dataframe thead th {\n",
       "        text-align: right;\n",
       "    }\n",
       "</style>\n",
       "<table border=\"1\" class=\"dataframe\">\n",
       "  <thead>\n",
       "    <tr style=\"text-align: right;\">\n",
       "      <th></th>\n",
       "      <th>price</th>\n",
       "      <th>latitude</th>\n",
       "      <th>longitude</th>\n",
       "      <th>baths</th>\n",
       "      <th>bedrooms</th>\n",
       "      <th>date_added</th>\n",
       "      <th>Total_Area</th>\n",
       "      <th>C_Faisalabad</th>\n",
       "      <th>C_Islamabad</th>\n",
       "      <th>C_Karachi</th>\n",
       "      <th>...</th>\n",
       "      <th>P_Punjab</th>\n",
       "      <th>P_Sindh</th>\n",
       "      <th>P_Farm House</th>\n",
       "      <th>P_Flat</th>\n",
       "      <th>P_House</th>\n",
       "      <th>P_Lower Portion</th>\n",
       "      <th>P_Penthouse</th>\n",
       "      <th>P_Room</th>\n",
       "      <th>P_Upper Portion</th>\n",
       "      <th>year</th>\n",
       "    </tr>\n",
       "  </thead>\n",
       "  <tbody>\n",
       "    <tr>\n",
       "      <th>0</th>\n",
       "      <td>10000000</td>\n",
       "      <td>33.679890</td>\n",
       "      <td>73.012640</td>\n",
       "      <td>2</td>\n",
       "      <td>2</td>\n",
       "      <td>2/4/2019</td>\n",
       "      <td>1089.004</td>\n",
       "      <td>0</td>\n",
       "      <td>1</td>\n",
       "      <td>0</td>\n",
       "      <td>...</td>\n",
       "      <td>0</td>\n",
       "      <td>0</td>\n",
       "      <td>0</td>\n",
       "      <td>1</td>\n",
       "      <td>0</td>\n",
       "      <td>0</td>\n",
       "      <td>0</td>\n",
       "      <td>0</td>\n",
       "      <td>0</td>\n",
       "      <td>2019</td>\n",
       "    </tr>\n",
       "    <tr>\n",
       "      <th>1</th>\n",
       "      <td>6900000</td>\n",
       "      <td>33.700993</td>\n",
       "      <td>72.971492</td>\n",
       "      <td>3</td>\n",
       "      <td>3</td>\n",
       "      <td>5/4/2019</td>\n",
       "      <td>15246.056</td>\n",
       "      <td>0</td>\n",
       "      <td>1</td>\n",
       "      <td>0</td>\n",
       "      <td>...</td>\n",
       "      <td>0</td>\n",
       "      <td>0</td>\n",
       "      <td>0</td>\n",
       "      <td>1</td>\n",
       "      <td>0</td>\n",
       "      <td>0</td>\n",
       "      <td>0</td>\n",
       "      <td>0</td>\n",
       "      <td>0</td>\n",
       "      <td>2019</td>\n",
       "    </tr>\n",
       "    <tr>\n",
       "      <th>2</th>\n",
       "      <td>16500000</td>\n",
       "      <td>33.631486</td>\n",
       "      <td>72.926559</td>\n",
       "      <td>6</td>\n",
       "      <td>5</td>\n",
       "      <td>7/17/2019</td>\n",
       "      <td>2178.008</td>\n",
       "      <td>0</td>\n",
       "      <td>1</td>\n",
       "      <td>0</td>\n",
       "      <td>...</td>\n",
       "      <td>0</td>\n",
       "      <td>0</td>\n",
       "      <td>0</td>\n",
       "      <td>0</td>\n",
       "      <td>1</td>\n",
       "      <td>0</td>\n",
       "      <td>0</td>\n",
       "      <td>0</td>\n",
       "      <td>0</td>\n",
       "      <td>2019</td>\n",
       "    </tr>\n",
       "    <tr>\n",
       "      <th>3</th>\n",
       "      <td>43500000</td>\n",
       "      <td>33.707573</td>\n",
       "      <td>73.151199</td>\n",
       "      <td>4</td>\n",
       "      <td>4</td>\n",
       "      <td>4/5/2019</td>\n",
       "      <td>10890.000</td>\n",
       "      <td>0</td>\n",
       "      <td>1</td>\n",
       "      <td>0</td>\n",
       "      <td>...</td>\n",
       "      <td>0</td>\n",
       "      <td>0</td>\n",
       "      <td>0</td>\n",
       "      <td>0</td>\n",
       "      <td>1</td>\n",
       "      <td>0</td>\n",
       "      <td>0</td>\n",
       "      <td>0</td>\n",
       "      <td>0</td>\n",
       "      <td>2019</td>\n",
       "    </tr>\n",
       "    <tr>\n",
       "      <th>4</th>\n",
       "      <td>7000000</td>\n",
       "      <td>33.492591</td>\n",
       "      <td>73.301339</td>\n",
       "      <td>3</td>\n",
       "      <td>3</td>\n",
       "      <td>7/10/2019</td>\n",
       "      <td>2178.008</td>\n",
       "      <td>0</td>\n",
       "      <td>1</td>\n",
       "      <td>0</td>\n",
       "      <td>...</td>\n",
       "      <td>0</td>\n",
       "      <td>0</td>\n",
       "      <td>0</td>\n",
       "      <td>0</td>\n",
       "      <td>1</td>\n",
       "      <td>0</td>\n",
       "      <td>0</td>\n",
       "      <td>0</td>\n",
       "      <td>0</td>\n",
       "      <td>2019</td>\n",
       "    </tr>\n",
       "  </tbody>\n",
       "</table>\n",
       "<p>5 rows × 23 columns</p>\n",
       "</div>"
      ],
      "text/plain": [
       "      price   latitude  longitude  baths  bedrooms date_added  Total_Area  \\\n",
       "0  10000000  33.679890  73.012640      2         2   2/4/2019    1089.004   \n",
       "1   6900000  33.700993  72.971492      3         3   5/4/2019   15246.056   \n",
       "2  16500000  33.631486  72.926559      6         5  7/17/2019    2178.008   \n",
       "3  43500000  33.707573  73.151199      4         4   4/5/2019   10890.000   \n",
       "4   7000000  33.492591  73.301339      3         3  7/10/2019    2178.008   \n",
       "\n",
       "   C_Faisalabad  C_Islamabad  C_Karachi  ...  P_Punjab  P_Sindh  P_Farm House  \\\n",
       "0             0            1          0  ...         0        0             0   \n",
       "1             0            1          0  ...         0        0             0   \n",
       "2             0            1          0  ...         0        0             0   \n",
       "3             0            1          0  ...         0        0             0   \n",
       "4             0            1          0  ...         0        0             0   \n",
       "\n",
       "   P_Flat  P_House  P_Lower Portion  P_Penthouse  P_Room  P_Upper Portion  \\\n",
       "0       1        0                0            0       0                0   \n",
       "1       1        0                0            0       0                0   \n",
       "2       0        1                0            0       0                0   \n",
       "3       0        1                0            0       0                0   \n",
       "4       0        1                0            0       0                0   \n",
       "\n",
       "   year  \n",
       "0  2019  \n",
       "1  2019  \n",
       "2  2019  \n",
       "3  2019  \n",
       "4  2019  \n",
       "\n",
       "[5 rows x 23 columns]"
      ]
     },
     "execution_count": 22,
     "metadata": {},
     "output_type": "execute_result"
    }
   ],
   "source": [
    "dff2.head()"
   ]
  },
  {
   "cell_type": "code",
   "execution_count": 23,
   "id": "275faaf9",
   "metadata": {
    "execution": {
     "iopub.execute_input": "2022-09-24T02:56:44.573457Z",
     "iopub.status.busy": "2022-09-24T02:56:44.572959Z",
     "iopub.status.idle": "2022-09-24T02:56:44.605778Z",
     "shell.execute_reply": "2022-09-24T02:56:44.604302Z"
    },
    "papermill": {
     "duration": 0.053652,
     "end_time": "2022-09-24T02:56:44.609037",
     "exception": false,
     "start_time": "2022-09-24T02:56:44.555385",
     "status": "completed"
    },
    "tags": []
   },
   "outputs": [],
   "source": [
    "dff2.drop(['date_added'] , axis = 1 , inplace = True)"
   ]
  },
  {
   "cell_type": "code",
   "execution_count": 24,
   "id": "2b0d19c2",
   "metadata": {
    "execution": {
     "iopub.execute_input": "2022-09-24T02:56:44.642753Z",
     "iopub.status.busy": "2022-09-24T02:56:44.642173Z",
     "iopub.status.idle": "2022-09-24T02:56:44.694474Z",
     "shell.execute_reply": "2022-09-24T02:56:44.693146Z"
    },
    "papermill": {
     "duration": 0.072285,
     "end_time": "2022-09-24T02:56:44.697468",
     "exception": false,
     "start_time": "2022-09-24T02:56:44.625183",
     "status": "completed"
    },
    "tags": []
   },
   "outputs": [
    {
     "data": {
      "text/html": [
       "<div>\n",
       "<style scoped>\n",
       "    .dataframe tbody tr th:only-of-type {\n",
       "        vertical-align: middle;\n",
       "    }\n",
       "\n",
       "    .dataframe tbody tr th {\n",
       "        vertical-align: top;\n",
       "    }\n",
       "\n",
       "    .dataframe thead th {\n",
       "        text-align: right;\n",
       "    }\n",
       "</style>\n",
       "<table border=\"1\" class=\"dataframe\">\n",
       "  <thead>\n",
       "    <tr style=\"text-align: right;\">\n",
       "      <th></th>\n",
       "      <th>price</th>\n",
       "      <th>latitude</th>\n",
       "      <th>longitude</th>\n",
       "      <th>baths</th>\n",
       "      <th>bedrooms</th>\n",
       "      <th>Total_Area</th>\n",
       "      <th>C_Faisalabad</th>\n",
       "      <th>C_Islamabad</th>\n",
       "      <th>C_Karachi</th>\n",
       "      <th>C_Lahore</th>\n",
       "      <th>...</th>\n",
       "      <th>P_Punjab</th>\n",
       "      <th>P_Sindh</th>\n",
       "      <th>P_Farm House</th>\n",
       "      <th>P_Flat</th>\n",
       "      <th>P_House</th>\n",
       "      <th>P_Lower Portion</th>\n",
       "      <th>P_Penthouse</th>\n",
       "      <th>P_Room</th>\n",
       "      <th>P_Upper Portion</th>\n",
       "      <th>year</th>\n",
       "    </tr>\n",
       "  </thead>\n",
       "  <tbody>\n",
       "    <tr>\n",
       "      <th>0</th>\n",
       "      <td>10000000</td>\n",
       "      <td>33.679890</td>\n",
       "      <td>73.012640</td>\n",
       "      <td>2</td>\n",
       "      <td>2</td>\n",
       "      <td>1089.004</td>\n",
       "      <td>0</td>\n",
       "      <td>1</td>\n",
       "      <td>0</td>\n",
       "      <td>0</td>\n",
       "      <td>...</td>\n",
       "      <td>0</td>\n",
       "      <td>0</td>\n",
       "      <td>0</td>\n",
       "      <td>1</td>\n",
       "      <td>0</td>\n",
       "      <td>0</td>\n",
       "      <td>0</td>\n",
       "      <td>0</td>\n",
       "      <td>0</td>\n",
       "      <td>2019</td>\n",
       "    </tr>\n",
       "    <tr>\n",
       "      <th>1</th>\n",
       "      <td>6900000</td>\n",
       "      <td>33.700993</td>\n",
       "      <td>72.971492</td>\n",
       "      <td>3</td>\n",
       "      <td>3</td>\n",
       "      <td>15246.056</td>\n",
       "      <td>0</td>\n",
       "      <td>1</td>\n",
       "      <td>0</td>\n",
       "      <td>0</td>\n",
       "      <td>...</td>\n",
       "      <td>0</td>\n",
       "      <td>0</td>\n",
       "      <td>0</td>\n",
       "      <td>1</td>\n",
       "      <td>0</td>\n",
       "      <td>0</td>\n",
       "      <td>0</td>\n",
       "      <td>0</td>\n",
       "      <td>0</td>\n",
       "      <td>2019</td>\n",
       "    </tr>\n",
       "    <tr>\n",
       "      <th>2</th>\n",
       "      <td>16500000</td>\n",
       "      <td>33.631486</td>\n",
       "      <td>72.926559</td>\n",
       "      <td>6</td>\n",
       "      <td>5</td>\n",
       "      <td>2178.008</td>\n",
       "      <td>0</td>\n",
       "      <td>1</td>\n",
       "      <td>0</td>\n",
       "      <td>0</td>\n",
       "      <td>...</td>\n",
       "      <td>0</td>\n",
       "      <td>0</td>\n",
       "      <td>0</td>\n",
       "      <td>0</td>\n",
       "      <td>1</td>\n",
       "      <td>0</td>\n",
       "      <td>0</td>\n",
       "      <td>0</td>\n",
       "      <td>0</td>\n",
       "      <td>2019</td>\n",
       "    </tr>\n",
       "    <tr>\n",
       "      <th>3</th>\n",
       "      <td>43500000</td>\n",
       "      <td>33.707573</td>\n",
       "      <td>73.151199</td>\n",
       "      <td>4</td>\n",
       "      <td>4</td>\n",
       "      <td>10890.000</td>\n",
       "      <td>0</td>\n",
       "      <td>1</td>\n",
       "      <td>0</td>\n",
       "      <td>0</td>\n",
       "      <td>...</td>\n",
       "      <td>0</td>\n",
       "      <td>0</td>\n",
       "      <td>0</td>\n",
       "      <td>0</td>\n",
       "      <td>1</td>\n",
       "      <td>0</td>\n",
       "      <td>0</td>\n",
       "      <td>0</td>\n",
       "      <td>0</td>\n",
       "      <td>2019</td>\n",
       "    </tr>\n",
       "    <tr>\n",
       "      <th>4</th>\n",
       "      <td>7000000</td>\n",
       "      <td>33.492591</td>\n",
       "      <td>73.301339</td>\n",
       "      <td>3</td>\n",
       "      <td>3</td>\n",
       "      <td>2178.008</td>\n",
       "      <td>0</td>\n",
       "      <td>1</td>\n",
       "      <td>0</td>\n",
       "      <td>0</td>\n",
       "      <td>...</td>\n",
       "      <td>0</td>\n",
       "      <td>0</td>\n",
       "      <td>0</td>\n",
       "      <td>0</td>\n",
       "      <td>1</td>\n",
       "      <td>0</td>\n",
       "      <td>0</td>\n",
       "      <td>0</td>\n",
       "      <td>0</td>\n",
       "      <td>2019</td>\n",
       "    </tr>\n",
       "    <tr>\n",
       "      <th>...</th>\n",
       "      <td>...</td>\n",
       "      <td>...</td>\n",
       "      <td>...</td>\n",
       "      <td>...</td>\n",
       "      <td>...</td>\n",
       "      <td>...</td>\n",
       "      <td>...</td>\n",
       "      <td>...</td>\n",
       "      <td>...</td>\n",
       "      <td>...</td>\n",
       "      <td>...</td>\n",
       "      <td>...</td>\n",
       "      <td>...</td>\n",
       "      <td>...</td>\n",
       "      <td>...</td>\n",
       "      <td>...</td>\n",
       "      <td>...</td>\n",
       "      <td>...</td>\n",
       "      <td>...</td>\n",
       "      <td>...</td>\n",
       "      <td>...</td>\n",
       "    </tr>\n",
       "    <tr>\n",
       "      <th>168441</th>\n",
       "      <td>26500000</td>\n",
       "      <td>25.029909</td>\n",
       "      <td>67.137192</td>\n",
       "      <td>0</td>\n",
       "      <td>6</td>\n",
       "      <td>26136.096</td>\n",
       "      <td>0</td>\n",
       "      <td>0</td>\n",
       "      <td>1</td>\n",
       "      <td>0</td>\n",
       "      <td>...</td>\n",
       "      <td>0</td>\n",
       "      <td>1</td>\n",
       "      <td>0</td>\n",
       "      <td>0</td>\n",
       "      <td>1</td>\n",
       "      <td>0</td>\n",
       "      <td>0</td>\n",
       "      <td>0</td>\n",
       "      <td>0</td>\n",
       "      <td>2019</td>\n",
       "    </tr>\n",
       "    <tr>\n",
       "      <th>168442</th>\n",
       "      <td>12500000</td>\n",
       "      <td>25.017951</td>\n",
       "      <td>67.136393</td>\n",
       "      <td>0</td>\n",
       "      <td>3</td>\n",
       "      <td>2178.008</td>\n",
       "      <td>0</td>\n",
       "      <td>0</td>\n",
       "      <td>1</td>\n",
       "      <td>0</td>\n",
       "      <td>...</td>\n",
       "      <td>0</td>\n",
       "      <td>1</td>\n",
       "      <td>0</td>\n",
       "      <td>0</td>\n",
       "      <td>1</td>\n",
       "      <td>0</td>\n",
       "      <td>0</td>\n",
       "      <td>0</td>\n",
       "      <td>0</td>\n",
       "      <td>2019</td>\n",
       "    </tr>\n",
       "    <tr>\n",
       "      <th>168443</th>\n",
       "      <td>27000000</td>\n",
       "      <td>25.015384</td>\n",
       "      <td>67.116330</td>\n",
       "      <td>0</td>\n",
       "      <td>6</td>\n",
       "      <td>26136.096</td>\n",
       "      <td>0</td>\n",
       "      <td>0</td>\n",
       "      <td>1</td>\n",
       "      <td>0</td>\n",
       "      <td>...</td>\n",
       "      <td>0</td>\n",
       "      <td>1</td>\n",
       "      <td>0</td>\n",
       "      <td>0</td>\n",
       "      <td>1</td>\n",
       "      <td>0</td>\n",
       "      <td>0</td>\n",
       "      <td>0</td>\n",
       "      <td>0</td>\n",
       "      <td>2019</td>\n",
       "    </tr>\n",
       "    <tr>\n",
       "      <th>168444</th>\n",
       "      <td>11000000</td>\n",
       "      <td>25.013265</td>\n",
       "      <td>67.120818</td>\n",
       "      <td>0</td>\n",
       "      <td>3</td>\n",
       "      <td>21235.578</td>\n",
       "      <td>0</td>\n",
       "      <td>0</td>\n",
       "      <td>1</td>\n",
       "      <td>0</td>\n",
       "      <td>...</td>\n",
       "      <td>0</td>\n",
       "      <td>1</td>\n",
       "      <td>0</td>\n",
       "      <td>0</td>\n",
       "      <td>1</td>\n",
       "      <td>0</td>\n",
       "      <td>0</td>\n",
       "      <td>0</td>\n",
       "      <td>0</td>\n",
       "      <td>2019</td>\n",
       "    </tr>\n",
       "    <tr>\n",
       "      <th>168445</th>\n",
       "      <td>9000000</td>\n",
       "      <td>25.113565</td>\n",
       "      <td>67.353811</td>\n",
       "      <td>3</td>\n",
       "      <td>3</td>\n",
       "      <td>25591.594</td>\n",
       "      <td>0</td>\n",
       "      <td>0</td>\n",
       "      <td>1</td>\n",
       "      <td>0</td>\n",
       "      <td>...</td>\n",
       "      <td>0</td>\n",
       "      <td>1</td>\n",
       "      <td>0</td>\n",
       "      <td>0</td>\n",
       "      <td>1</td>\n",
       "      <td>0</td>\n",
       "      <td>0</td>\n",
       "      <td>0</td>\n",
       "      <td>0</td>\n",
       "      <td>2019</td>\n",
       "    </tr>\n",
       "  </tbody>\n",
       "</table>\n",
       "<p>168446 rows × 22 columns</p>\n",
       "</div>"
      ],
      "text/plain": [
       "           price   latitude  longitude  baths  bedrooms  Total_Area  \\\n",
       "0       10000000  33.679890  73.012640      2         2    1089.004   \n",
       "1        6900000  33.700993  72.971492      3         3   15246.056   \n",
       "2       16500000  33.631486  72.926559      6         5    2178.008   \n",
       "3       43500000  33.707573  73.151199      4         4   10890.000   \n",
       "4        7000000  33.492591  73.301339      3         3    2178.008   \n",
       "...          ...        ...        ...    ...       ...         ...   \n",
       "168441  26500000  25.029909  67.137192      0         6   26136.096   \n",
       "168442  12500000  25.017951  67.136393      0         3    2178.008   \n",
       "168443  27000000  25.015384  67.116330      0         6   26136.096   \n",
       "168444  11000000  25.013265  67.120818      0         3   21235.578   \n",
       "168445   9000000  25.113565  67.353811      3         3   25591.594   \n",
       "\n",
       "        C_Faisalabad  C_Islamabad  C_Karachi  C_Lahore  ...  P_Punjab  \\\n",
       "0                  0            1          0         0  ...         0   \n",
       "1                  0            1          0         0  ...         0   \n",
       "2                  0            1          0         0  ...         0   \n",
       "3                  0            1          0         0  ...         0   \n",
       "4                  0            1          0         0  ...         0   \n",
       "...              ...          ...        ...       ...  ...       ...   \n",
       "168441             0            0          1         0  ...         0   \n",
       "168442             0            0          1         0  ...         0   \n",
       "168443             0            0          1         0  ...         0   \n",
       "168444             0            0          1         0  ...         0   \n",
       "168445             0            0          1         0  ...         0   \n",
       "\n",
       "        P_Sindh  P_Farm House  P_Flat  P_House  P_Lower Portion  P_Penthouse  \\\n",
       "0             0             0       1        0                0            0   \n",
       "1             0             0       1        0                0            0   \n",
       "2             0             0       0        1                0            0   \n",
       "3             0             0       0        1                0            0   \n",
       "4             0             0       0        1                0            0   \n",
       "...         ...           ...     ...      ...              ...          ...   \n",
       "168441        1             0       0        1                0            0   \n",
       "168442        1             0       0        1                0            0   \n",
       "168443        1             0       0        1                0            0   \n",
       "168444        1             0       0        1                0            0   \n",
       "168445        1             0       0        1                0            0   \n",
       "\n",
       "        P_Room  P_Upper Portion  year  \n",
       "0            0                0  2019  \n",
       "1            0                0  2019  \n",
       "2            0                0  2019  \n",
       "3            0                0  2019  \n",
       "4            0                0  2019  \n",
       "...        ...              ...   ...  \n",
       "168441       0                0  2019  \n",
       "168442       0                0  2019  \n",
       "168443       0                0  2019  \n",
       "168444       0                0  2019  \n",
       "168445       0                0  2019  \n",
       "\n",
       "[168446 rows x 22 columns]"
      ]
     },
     "execution_count": 24,
     "metadata": {},
     "output_type": "execute_result"
    }
   ],
   "source": [
    "dff2"
   ]
  },
  {
   "cell_type": "code",
   "execution_count": 25,
   "id": "10fb5e72",
   "metadata": {
    "execution": {
     "iopub.execute_input": "2022-09-24T02:56:44.732278Z",
     "iopub.status.busy": "2022-09-24T02:56:44.731786Z",
     "iopub.status.idle": "2022-09-24T02:56:44.744298Z",
     "shell.execute_reply": "2022-09-24T02:56:44.742807Z"
    },
    "papermill": {
     "duration": 0.033867,
     "end_time": "2022-09-24T02:56:44.747428",
     "exception": false,
     "start_time": "2022-09-24T02:56:44.713561",
     "status": "completed"
    },
    "tags": []
   },
   "outputs": [],
   "source": [
    "x = dff2.drop('price' , axis =1)"
   ]
  },
  {
   "cell_type": "code",
   "execution_count": 26,
   "id": "6f8cda9f",
   "metadata": {
    "execution": {
     "iopub.execute_input": "2022-09-24T02:56:44.782978Z",
     "iopub.status.busy": "2022-09-24T02:56:44.782414Z",
     "iopub.status.idle": "2022-09-24T02:56:44.807127Z",
     "shell.execute_reply": "2022-09-24T02:56:44.805863Z"
    },
    "papermill": {
     "duration": 0.045767,
     "end_time": "2022-09-24T02:56:44.809933",
     "exception": false,
     "start_time": "2022-09-24T02:56:44.764166",
     "status": "completed"
    },
    "tags": []
   },
   "outputs": [
    {
     "data": {
      "text/html": [
       "<div>\n",
       "<style scoped>\n",
       "    .dataframe tbody tr th:only-of-type {\n",
       "        vertical-align: middle;\n",
       "    }\n",
       "\n",
       "    .dataframe tbody tr th {\n",
       "        vertical-align: top;\n",
       "    }\n",
       "\n",
       "    .dataframe thead th {\n",
       "        text-align: right;\n",
       "    }\n",
       "</style>\n",
       "<table border=\"1\" class=\"dataframe\">\n",
       "  <thead>\n",
       "    <tr style=\"text-align: right;\">\n",
       "      <th></th>\n",
       "      <th>latitude</th>\n",
       "      <th>longitude</th>\n",
       "      <th>baths</th>\n",
       "      <th>bedrooms</th>\n",
       "      <th>Total_Area</th>\n",
       "      <th>C_Faisalabad</th>\n",
       "      <th>C_Islamabad</th>\n",
       "      <th>C_Karachi</th>\n",
       "      <th>C_Lahore</th>\n",
       "      <th>C_Rawalpindi</th>\n",
       "      <th>...</th>\n",
       "      <th>P_Punjab</th>\n",
       "      <th>P_Sindh</th>\n",
       "      <th>P_Farm House</th>\n",
       "      <th>P_Flat</th>\n",
       "      <th>P_House</th>\n",
       "      <th>P_Lower Portion</th>\n",
       "      <th>P_Penthouse</th>\n",
       "      <th>P_Room</th>\n",
       "      <th>P_Upper Portion</th>\n",
       "      <th>year</th>\n",
       "    </tr>\n",
       "  </thead>\n",
       "  <tbody>\n",
       "    <tr>\n",
       "      <th>0</th>\n",
       "      <td>33.679890</td>\n",
       "      <td>73.012640</td>\n",
       "      <td>2</td>\n",
       "      <td>2</td>\n",
       "      <td>1089.004</td>\n",
       "      <td>0</td>\n",
       "      <td>1</td>\n",
       "      <td>0</td>\n",
       "      <td>0</td>\n",
       "      <td>0</td>\n",
       "      <td>...</td>\n",
       "      <td>0</td>\n",
       "      <td>0</td>\n",
       "      <td>0</td>\n",
       "      <td>1</td>\n",
       "      <td>0</td>\n",
       "      <td>0</td>\n",
       "      <td>0</td>\n",
       "      <td>0</td>\n",
       "      <td>0</td>\n",
       "      <td>2019</td>\n",
       "    </tr>\n",
       "    <tr>\n",
       "      <th>1</th>\n",
       "      <td>33.700993</td>\n",
       "      <td>72.971492</td>\n",
       "      <td>3</td>\n",
       "      <td>3</td>\n",
       "      <td>15246.056</td>\n",
       "      <td>0</td>\n",
       "      <td>1</td>\n",
       "      <td>0</td>\n",
       "      <td>0</td>\n",
       "      <td>0</td>\n",
       "      <td>...</td>\n",
       "      <td>0</td>\n",
       "      <td>0</td>\n",
       "      <td>0</td>\n",
       "      <td>1</td>\n",
       "      <td>0</td>\n",
       "      <td>0</td>\n",
       "      <td>0</td>\n",
       "      <td>0</td>\n",
       "      <td>0</td>\n",
       "      <td>2019</td>\n",
       "    </tr>\n",
       "    <tr>\n",
       "      <th>2</th>\n",
       "      <td>33.631486</td>\n",
       "      <td>72.926559</td>\n",
       "      <td>6</td>\n",
       "      <td>5</td>\n",
       "      <td>2178.008</td>\n",
       "      <td>0</td>\n",
       "      <td>1</td>\n",
       "      <td>0</td>\n",
       "      <td>0</td>\n",
       "      <td>0</td>\n",
       "      <td>...</td>\n",
       "      <td>0</td>\n",
       "      <td>0</td>\n",
       "      <td>0</td>\n",
       "      <td>0</td>\n",
       "      <td>1</td>\n",
       "      <td>0</td>\n",
       "      <td>0</td>\n",
       "      <td>0</td>\n",
       "      <td>0</td>\n",
       "      <td>2019</td>\n",
       "    </tr>\n",
       "    <tr>\n",
       "      <th>3</th>\n",
       "      <td>33.707573</td>\n",
       "      <td>73.151199</td>\n",
       "      <td>4</td>\n",
       "      <td>4</td>\n",
       "      <td>10890.000</td>\n",
       "      <td>0</td>\n",
       "      <td>1</td>\n",
       "      <td>0</td>\n",
       "      <td>0</td>\n",
       "      <td>0</td>\n",
       "      <td>...</td>\n",
       "      <td>0</td>\n",
       "      <td>0</td>\n",
       "      <td>0</td>\n",
       "      <td>0</td>\n",
       "      <td>1</td>\n",
       "      <td>0</td>\n",
       "      <td>0</td>\n",
       "      <td>0</td>\n",
       "      <td>0</td>\n",
       "      <td>2019</td>\n",
       "    </tr>\n",
       "    <tr>\n",
       "      <th>4</th>\n",
       "      <td>33.492591</td>\n",
       "      <td>73.301339</td>\n",
       "      <td>3</td>\n",
       "      <td>3</td>\n",
       "      <td>2178.008</td>\n",
       "      <td>0</td>\n",
       "      <td>1</td>\n",
       "      <td>0</td>\n",
       "      <td>0</td>\n",
       "      <td>0</td>\n",
       "      <td>...</td>\n",
       "      <td>0</td>\n",
       "      <td>0</td>\n",
       "      <td>0</td>\n",
       "      <td>0</td>\n",
       "      <td>1</td>\n",
       "      <td>0</td>\n",
       "      <td>0</td>\n",
       "      <td>0</td>\n",
       "      <td>0</td>\n",
       "      <td>2019</td>\n",
       "    </tr>\n",
       "  </tbody>\n",
       "</table>\n",
       "<p>5 rows × 21 columns</p>\n",
       "</div>"
      ],
      "text/plain": [
       "    latitude  longitude  baths  bedrooms  Total_Area  C_Faisalabad  \\\n",
       "0  33.679890  73.012640      2         2    1089.004             0   \n",
       "1  33.700993  72.971492      3         3   15246.056             0   \n",
       "2  33.631486  72.926559      6         5    2178.008             0   \n",
       "3  33.707573  73.151199      4         4   10890.000             0   \n",
       "4  33.492591  73.301339      3         3    2178.008             0   \n",
       "\n",
       "   C_Islamabad  C_Karachi  C_Lahore  C_Rawalpindi  ...  P_Punjab  P_Sindh  \\\n",
       "0            1          0         0             0  ...         0        0   \n",
       "1            1          0         0             0  ...         0        0   \n",
       "2            1          0         0             0  ...         0        0   \n",
       "3            1          0         0             0  ...         0        0   \n",
       "4            1          0         0             0  ...         0        0   \n",
       "\n",
       "   P_Farm House  P_Flat  P_House  P_Lower Portion  P_Penthouse  P_Room  \\\n",
       "0             0       1        0                0            0       0   \n",
       "1             0       1        0                0            0       0   \n",
       "2             0       0        1                0            0       0   \n",
       "3             0       0        1                0            0       0   \n",
       "4             0       0        1                0            0       0   \n",
       "\n",
       "   P_Upper Portion  year  \n",
       "0                0  2019  \n",
       "1                0  2019  \n",
       "2                0  2019  \n",
       "3                0  2019  \n",
       "4                0  2019  \n",
       "\n",
       "[5 rows x 21 columns]"
      ]
     },
     "execution_count": 26,
     "metadata": {},
     "output_type": "execute_result"
    }
   ],
   "source": [
    "x.head()"
   ]
  },
  {
   "cell_type": "code",
   "execution_count": 27,
   "id": "3edaaeab",
   "metadata": {
    "execution": {
     "iopub.execute_input": "2022-09-24T02:56:44.845159Z",
     "iopub.status.busy": "2022-09-24T02:56:44.844606Z",
     "iopub.status.idle": "2022-09-24T02:56:44.851047Z",
     "shell.execute_reply": "2022-09-24T02:56:44.849809Z"
    },
    "papermill": {
     "duration": 0.026954,
     "end_time": "2022-09-24T02:56:44.853528",
     "exception": false,
     "start_time": "2022-09-24T02:56:44.826574",
     "status": "completed"
    },
    "tags": []
   },
   "outputs": [],
   "source": [
    "y = dff2['price']"
   ]
  },
  {
   "cell_type": "code",
   "execution_count": 28,
   "id": "a822df6f",
   "metadata": {
    "execution": {
     "iopub.execute_input": "2022-09-24T02:56:44.891341Z",
     "iopub.status.busy": "2022-09-24T02:56:44.889897Z",
     "iopub.status.idle": "2022-09-24T02:56:44.899833Z",
     "shell.execute_reply": "2022-09-24T02:56:44.898604Z"
    },
    "papermill": {
     "duration": 0.030619,
     "end_time": "2022-09-24T02:56:44.902263",
     "exception": false,
     "start_time": "2022-09-24T02:56:44.871644",
     "status": "completed"
    },
    "tags": []
   },
   "outputs": [
    {
     "data": {
      "text/plain": [
       "0    10000000\n",
       "1     6900000\n",
       "2    16500000\n",
       "3    43500000\n",
       "4     7000000\n",
       "Name: price, dtype: int64"
      ]
     },
     "execution_count": 28,
     "metadata": {},
     "output_type": "execute_result"
    }
   ],
   "source": [
    "y.head()"
   ]
  },
  {
   "cell_type": "markdown",
   "id": "97c333da",
   "metadata": {
    "papermill": {
     "duration": 0.016248,
     "end_time": "2022-09-24T02:56:44.935272",
     "exception": false,
     "start_time": "2022-09-24T02:56:44.919024",
     "status": "completed"
    },
    "tags": []
   },
   "source": [
    "# Linear Regression "
   ]
  },
  {
   "cell_type": "code",
   "execution_count": 29,
   "id": "56c178fe",
   "metadata": {
    "execution": {
     "iopub.execute_input": "2022-09-24T02:56:44.971601Z",
     "iopub.status.busy": "2022-09-24T02:56:44.971075Z",
     "iopub.status.idle": "2022-09-24T02:56:45.027252Z",
     "shell.execute_reply": "2022-09-24T02:56:45.025799Z"
    },
    "papermill": {
     "duration": 0.077908,
     "end_time": "2022-09-24T02:56:45.030347",
     "exception": false,
     "start_time": "2022-09-24T02:56:44.952439",
     "status": "completed"
    },
    "tags": []
   },
   "outputs": [],
   "source": [
    "train_x , test_x , train_y , test_y = train_test_split(x , y , test_size = 0.3)"
   ]
  },
  {
   "cell_type": "code",
   "execution_count": 30,
   "id": "2d181337",
   "metadata": {
    "execution": {
     "iopub.execute_input": "2022-09-24T02:56:45.066117Z",
     "iopub.status.busy": "2022-09-24T02:56:45.065381Z",
     "iopub.status.idle": "2022-09-24T02:56:45.071942Z",
     "shell.execute_reply": "2022-09-24T02:56:45.070663Z"
    },
    "papermill": {
     "duration": 0.027129,
     "end_time": "2022-09-24T02:56:45.074225",
     "exception": false,
     "start_time": "2022-09-24T02:56:45.047096",
     "status": "completed"
    },
    "tags": []
   },
   "outputs": [],
   "source": [
    "model = LinearRegression()"
   ]
  },
  {
   "cell_type": "code",
   "execution_count": 31,
   "id": "f2e4dc05",
   "metadata": {
    "execution": {
     "iopub.execute_input": "2022-09-24T02:56:45.110753Z",
     "iopub.status.busy": "2022-09-24T02:56:45.110153Z",
     "iopub.status.idle": "2022-09-24T02:56:45.254034Z",
     "shell.execute_reply": "2022-09-24T02:56:45.252674Z"
    },
    "papermill": {
     "duration": 0.16728,
     "end_time": "2022-09-24T02:56:45.258587",
     "exception": false,
     "start_time": "2022-09-24T02:56:45.091307",
     "status": "completed"
    },
    "tags": []
   },
   "outputs": [
    {
     "data": {
      "text/plain": [
       "LinearRegression()"
      ]
     },
     "execution_count": 31,
     "metadata": {},
     "output_type": "execute_result"
    }
   ],
   "source": [
    "model.fit(train_x , train_y)"
   ]
  },
  {
   "cell_type": "code",
   "execution_count": 32,
   "id": "f1a33c4a",
   "metadata": {
    "execution": {
     "iopub.execute_input": "2022-09-24T02:56:45.348056Z",
     "iopub.status.busy": "2022-09-24T02:56:45.347492Z",
     "iopub.status.idle": "2022-09-24T02:56:45.370317Z",
     "shell.execute_reply": "2022-09-24T02:56:45.367584Z"
    },
    "papermill": {
     "duration": 0.073252,
     "end_time": "2022-09-24T02:56:45.375334",
     "exception": false,
     "start_time": "2022-09-24T02:56:45.302082",
     "status": "completed"
    },
    "tags": []
   },
   "outputs": [],
   "source": [
    "predict = model.predict(test_x)"
   ]
  },
  {
   "cell_type": "code",
   "execution_count": 33,
   "id": "fc6e92d1",
   "metadata": {
    "execution": {
     "iopub.execute_input": "2022-09-24T02:56:45.464111Z",
     "iopub.status.busy": "2022-09-24T02:56:45.463284Z",
     "iopub.status.idle": "2022-09-24T02:56:45.476339Z",
     "shell.execute_reply": "2022-09-24T02:56:45.474790Z"
    },
    "papermill": {
     "duration": 0.062515,
     "end_time": "2022-09-24T02:56:45.480924",
     "exception": false,
     "start_time": "2022-09-24T02:56:45.418409",
     "status": "completed"
    },
    "tags": []
   },
   "outputs": [
    {
     "data": {
      "text/plain": [
       "15309738.39908669"
      ]
     },
     "execution_count": 33,
     "metadata": {},
     "output_type": "execute_result"
    }
   ],
   "source": [
    "mean_absolute_error(predict, test_y)"
   ]
  },
  {
   "cell_type": "code",
   "execution_count": 34,
   "id": "696948b8",
   "metadata": {
    "execution": {
     "iopub.execute_input": "2022-09-24T02:56:45.518401Z",
     "iopub.status.busy": "2022-09-24T02:56:45.517425Z",
     "iopub.status.idle": "2022-09-24T02:56:45.525108Z",
     "shell.execute_reply": "2022-09-24T02:56:45.524128Z"
    },
    "papermill": {
     "duration": 0.030054,
     "end_time": "2022-09-24T02:56:45.528940",
     "exception": false,
     "start_time": "2022-09-24T02:56:45.498886",
     "status": "completed"
    },
    "tags": []
   },
   "outputs": [],
   "source": [
    "mse = mean_squared_error(predict, test_y)"
   ]
  },
  {
   "cell_type": "code",
   "execution_count": 35,
   "id": "95191148",
   "metadata": {
    "execution": {
     "iopub.execute_input": "2022-09-24T02:56:45.580432Z",
     "iopub.status.busy": "2022-09-24T02:56:45.578673Z",
     "iopub.status.idle": "2022-09-24T02:56:45.588506Z",
     "shell.execute_reply": "2022-09-24T02:56:45.587006Z"
    },
    "papermill": {
     "duration": 0.042592,
     "end_time": "2022-09-24T02:56:45.591880",
     "exception": false,
     "start_time": "2022-09-24T02:56:45.549288",
     "status": "completed"
    },
    "tags": []
   },
   "outputs": [
    {
     "data": {
      "text/plain": [
       "1050945303900977.2"
      ]
     },
     "execution_count": 35,
     "metadata": {},
     "output_type": "execute_result"
    }
   ],
   "source": [
    "mse"
   ]
  },
  {
   "cell_type": "code",
   "execution_count": 36,
   "id": "bfff3429",
   "metadata": {
    "execution": {
     "iopub.execute_input": "2022-09-24T02:56:45.637034Z",
     "iopub.status.busy": "2022-09-24T02:56:45.636468Z",
     "iopub.status.idle": "2022-09-24T02:56:45.643107Z",
     "shell.execute_reply": "2022-09-24T02:56:45.641067Z"
    },
    "papermill": {
     "duration": 0.036588,
     "end_time": "2022-09-24T02:56:45.646683",
     "exception": false,
     "start_time": "2022-09-24T02:56:45.610095",
     "status": "completed"
    },
    "tags": []
   },
   "outputs": [],
   "source": [
    "RMSE = np.sqrt(mse)"
   ]
  },
  {
   "cell_type": "code",
   "execution_count": 37,
   "id": "3dc78cab",
   "metadata": {
    "execution": {
     "iopub.execute_input": "2022-09-24T02:56:45.682837Z",
     "iopub.status.busy": "2022-09-24T02:56:45.682055Z",
     "iopub.status.idle": "2022-09-24T02:56:45.688467Z",
     "shell.execute_reply": "2022-09-24T02:56:45.687268Z"
    },
    "papermill": {
     "duration": 0.027445,
     "end_time": "2022-09-24T02:56:45.690949",
     "exception": false,
     "start_time": "2022-09-24T02:56:45.663504",
     "status": "completed"
    },
    "tags": []
   },
   "outputs": [
    {
     "data": {
      "text/plain": [
       "32418286.56639609"
      ]
     },
     "execution_count": 37,
     "metadata": {},
     "output_type": "execute_result"
    }
   ],
   "source": [
    "RMSE"
   ]
  },
  {
   "cell_type": "code",
   "execution_count": 38,
   "id": "6e1d44e3",
   "metadata": {
    "execution": {
     "iopub.execute_input": "2022-09-24T02:56:45.727667Z",
     "iopub.status.busy": "2022-09-24T02:56:45.727140Z",
     "iopub.status.idle": "2022-09-24T02:56:45.737118Z",
     "shell.execute_reply": "2022-09-24T02:56:45.735610Z"
    },
    "papermill": {
     "duration": 0.031784,
     "end_time": "2022-09-24T02:56:45.740028",
     "exception": false,
     "start_time": "2022-09-24T02:56:45.708244",
     "status": "completed"
    },
    "tags": []
   },
   "outputs": [
    {
     "data": {
      "text/plain": [
       "-4.359074454788395"
      ]
     },
     "execution_count": 38,
     "metadata": {},
     "output_type": "execute_result"
    }
   ],
   "source": [
    "r2_score(predict, test_y)"
   ]
  },
  {
   "cell_type": "markdown",
   "id": "0750a316",
   "metadata": {
    "papermill": {
     "duration": 0.016259,
     "end_time": "2022-09-24T02:56:45.773395",
     "exception": false,
     "start_time": "2022-09-24T02:56:45.757136",
     "status": "completed"
    },
    "tags": []
   },
   "source": [
    "# KNN"
   ]
  },
  {
   "cell_type": "code",
   "execution_count": 39,
   "id": "e6c39953",
   "metadata": {
    "execution": {
     "iopub.execute_input": "2022-09-24T02:56:45.810001Z",
     "iopub.status.busy": "2022-09-24T02:56:45.809438Z",
     "iopub.status.idle": "2022-09-24T02:56:45.873458Z",
     "shell.execute_reply": "2022-09-24T02:56:45.871828Z"
    },
    "papermill": {
     "duration": 0.085675,
     "end_time": "2022-09-24T02:56:45.876497",
     "exception": false,
     "start_time": "2022-09-24T02:56:45.790822",
     "status": "completed"
    },
    "tags": []
   },
   "outputs": [],
   "source": [
    "from sklearn.neighbors import KNeighborsRegressor"
   ]
  },
  {
   "cell_type": "code",
   "execution_count": 40,
   "id": "f8042755",
   "metadata": {
    "execution": {
     "iopub.execute_input": "2022-09-24T02:56:45.913232Z",
     "iopub.status.busy": "2022-09-24T02:56:45.912300Z",
     "iopub.status.idle": "2022-09-24T02:56:45.917538Z",
     "shell.execute_reply": "2022-09-24T02:56:45.916475Z"
    },
    "papermill": {
     "duration": 0.02644,
     "end_time": "2022-09-24T02:56:45.920050",
     "exception": false,
     "start_time": "2022-09-24T02:56:45.893610",
     "status": "completed"
    },
    "tags": []
   },
   "outputs": [],
   "source": [
    "modelKNN = KNeighborsRegressor(n_neighbors=3)"
   ]
  },
  {
   "cell_type": "code",
   "execution_count": 41,
   "id": "499d8582",
   "metadata": {
    "execution": {
     "iopub.execute_input": "2022-09-24T02:56:45.956410Z",
     "iopub.status.busy": "2022-09-24T02:56:45.955840Z",
     "iopub.status.idle": "2022-09-24T02:56:45.974068Z",
     "shell.execute_reply": "2022-09-24T02:56:45.972726Z"
    },
    "papermill": {
     "duration": 0.040121,
     "end_time": "2022-09-24T02:56:45.977076",
     "exception": false,
     "start_time": "2022-09-24T02:56:45.936955",
     "status": "completed"
    },
    "tags": []
   },
   "outputs": [
    {
     "data": {
      "text/plain": [
       "KNeighborsRegressor(n_neighbors=3)"
      ]
     },
     "execution_count": 41,
     "metadata": {},
     "output_type": "execute_result"
    }
   ],
   "source": [
    "modelKNN.fit(train_x,train_y)"
   ]
  },
  {
   "cell_type": "code",
   "execution_count": 42,
   "id": "4b80578e",
   "metadata": {
    "execution": {
     "iopub.execute_input": "2022-09-24T02:56:46.015180Z",
     "iopub.status.busy": "2022-09-24T02:56:46.013887Z",
     "iopub.status.idle": "2022-09-24T02:58:31.900214Z",
     "shell.execute_reply": "2022-09-24T02:58:31.897336Z"
    },
    "papermill": {
     "duration": 105.911116,
     "end_time": "2022-09-24T02:58:31.906291",
     "exception": false,
     "start_time": "2022-09-24T02:56:45.995175",
     "status": "completed"
    },
    "tags": []
   },
   "outputs": [],
   "source": [
    "precKNN = modelKNN.predict(test_x)"
   ]
  },
  {
   "cell_type": "code",
   "execution_count": 43,
   "id": "4540cda3",
   "metadata": {
    "execution": {
     "iopub.execute_input": "2022-09-24T02:58:31.948120Z",
     "iopub.status.busy": "2022-09-24T02:58:31.947502Z",
     "iopub.status.idle": "2022-09-24T02:58:31.956232Z",
     "shell.execute_reply": "2022-09-24T02:58:31.955241Z"
    },
    "papermill": {
     "duration": 0.031159,
     "end_time": "2022-09-24T02:58:31.958743",
     "exception": false,
     "start_time": "2022-09-24T02:58:31.927584",
     "status": "completed"
    },
    "tags": []
   },
   "outputs": [],
   "source": [
    "MAE = mean_absolute_error(test_y, precKNN)"
   ]
  },
  {
   "cell_type": "code",
   "execution_count": 44,
   "id": "a5791984",
   "metadata": {
    "execution": {
     "iopub.execute_input": "2022-09-24T02:58:31.995955Z",
     "iopub.status.busy": "2022-09-24T02:58:31.995144Z",
     "iopub.status.idle": "2022-09-24T02:58:32.002173Z",
     "shell.execute_reply": "2022-09-24T02:58:32.001010Z"
    },
    "papermill": {
     "duration": 0.02844,
     "end_time": "2022-09-24T02:58:32.004608",
     "exception": false,
     "start_time": "2022-09-24T02:58:31.976168",
     "status": "completed"
    },
    "tags": []
   },
   "outputs": [
    {
     "data": {
      "text/plain": [
       "8483907.079405284"
      ]
     },
     "execution_count": 44,
     "metadata": {},
     "output_type": "execute_result"
    }
   ],
   "source": [
    "MAE"
   ]
  },
  {
   "cell_type": "code",
   "execution_count": 45,
   "id": "1c6584b8",
   "metadata": {
    "execution": {
     "iopub.execute_input": "2022-09-24T02:58:32.043690Z",
     "iopub.status.busy": "2022-09-24T02:58:32.043158Z",
     "iopub.status.idle": "2022-09-24T02:58:32.050499Z",
     "shell.execute_reply": "2022-09-24T02:58:32.049181Z"
    },
    "papermill": {
     "duration": 0.030158,
     "end_time": "2022-09-24T02:58:32.053175",
     "exception": false,
     "start_time": "2022-09-24T02:58:32.023017",
     "status": "completed"
    },
    "tags": []
   },
   "outputs": [],
   "source": [
    "MSE = mean_squared_error(test_y, precKNN)"
   ]
  },
  {
   "cell_type": "code",
   "execution_count": 46,
   "id": "12980444",
   "metadata": {
    "execution": {
     "iopub.execute_input": "2022-09-24T02:58:32.091362Z",
     "iopub.status.busy": "2022-09-24T02:58:32.090820Z",
     "iopub.status.idle": "2022-09-24T02:58:32.098852Z",
     "shell.execute_reply": "2022-09-24T02:58:32.097627Z"
    },
    "papermill": {
     "duration": 0.029677,
     "end_time": "2022-09-24T02:58:32.101050",
     "exception": false,
     "start_time": "2022-09-24T02:58:32.071373",
     "status": "completed"
    },
    "tags": []
   },
   "outputs": [
    {
     "data": {
      "text/plain": [
       "729947710191102.5"
      ]
     },
     "execution_count": 46,
     "metadata": {},
     "output_type": "execute_result"
    }
   ],
   "source": [
    "MSE"
   ]
  },
  {
   "cell_type": "code",
   "execution_count": 47,
   "id": "17827f10",
   "metadata": {
    "execution": {
     "iopub.execute_input": "2022-09-24T02:58:32.137670Z",
     "iopub.status.busy": "2022-09-24T02:58:32.137168Z",
     "iopub.status.idle": "2022-09-24T02:58:32.142413Z",
     "shell.execute_reply": "2022-09-24T02:58:32.141252Z"
    },
    "papermill": {
     "duration": 0.026413,
     "end_time": "2022-09-24T02:58:32.144886",
     "exception": false,
     "start_time": "2022-09-24T02:58:32.118473",
     "status": "completed"
    },
    "tags": []
   },
   "outputs": [],
   "source": [
    "RMSE = np.sqrt(MSE)"
   ]
  },
  {
   "cell_type": "code",
   "execution_count": 48,
   "id": "2f7674a3",
   "metadata": {
    "execution": {
     "iopub.execute_input": "2022-09-24T02:58:32.181967Z",
     "iopub.status.busy": "2022-09-24T02:58:32.181456Z",
     "iopub.status.idle": "2022-09-24T02:58:32.189867Z",
     "shell.execute_reply": "2022-09-24T02:58:32.188611Z"
    },
    "papermill": {
     "duration": 0.029755,
     "end_time": "2022-09-24T02:58:32.192564",
     "exception": false,
     "start_time": "2022-09-24T02:58:32.162809",
     "status": "completed"
    },
    "tags": []
   },
   "outputs": [
    {
     "data": {
      "text/plain": [
       "27017544.488555998"
      ]
     },
     "execution_count": 48,
     "metadata": {},
     "output_type": "execute_result"
    }
   ],
   "source": [
    "RMSE"
   ]
  },
  {
   "cell_type": "code",
   "execution_count": 49,
   "id": "dbf75c1f",
   "metadata": {
    "execution": {
     "iopub.execute_input": "2022-09-24T02:58:32.230235Z",
     "iopub.status.busy": "2022-09-24T02:58:32.229746Z",
     "iopub.status.idle": "2022-09-24T02:58:32.238201Z",
     "shell.execute_reply": "2022-09-24T02:58:32.237241Z"
    },
    "papermill": {
     "duration": 0.030367,
     "end_time": "2022-09-24T02:58:32.240504",
     "exception": false,
     "start_time": "2022-09-24T02:58:32.210137",
     "status": "completed"
    },
    "tags": []
   },
   "outputs": [
    {
     "data": {
      "text/plain": [
       "0.40399250210732984"
      ]
     },
     "execution_count": 49,
     "metadata": {},
     "output_type": "execute_result"
    }
   ],
   "source": [
    "r2_score(test_y,precKNN)"
   ]
  }
 ],
 "metadata": {
  "kernelspec": {
   "display_name": "Python 3",
   "language": "python",
   "name": "python3"
  },
  "language_info": {
   "codemirror_mode": {
    "name": "ipython",
    "version": 3
   },
   "file_extension": ".py",
   "mimetype": "text/x-python",
   "name": "python",
   "nbconvert_exporter": "python",
   "pygments_lexer": "ipython3",
   "version": "3.7.12"
  },
  "papermill": {
   "default_parameters": {},
   "duration": 137.913112,
   "end_time": "2022-09-24T02:58:33.587868",
   "environment_variables": {},
   "exception": null,
   "input_path": "__notebook__.ipynb",
   "output_path": "__notebook__.ipynb",
   "parameters": {},
   "start_time": "2022-09-24T02:56:15.674756",
   "version": "2.3.4"
  }
 },
 "nbformat": 4,
 "nbformat_minor": 5
}
