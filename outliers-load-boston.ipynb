{
 "cells": [
  {
   "cell_type": "code",
   "execution_count": 1,
   "id": "897c3fdc",
   "metadata": {
    "_cell_guid": "b1076dfc-b9ad-4769-8c92-a6c4dae69d19",
    "_uuid": "8f2839f25d086af736a60e9eeb907d3b93b6e0e5",
    "execution": {
     "iopub.execute_input": "2022-09-24T02:57:40.415698Z",
     "iopub.status.busy": "2022-09-24T02:57:40.414659Z",
     "iopub.status.idle": "2022-09-24T02:57:41.847201Z",
     "shell.execute_reply": "2022-09-24T02:57:41.845964Z"
    },
    "papermill": {
     "duration": 1.445504,
     "end_time": "2022-09-24T02:57:41.852417",
     "exception": false,
     "start_time": "2022-09-24T02:57:40.406913",
     "status": "completed"
    },
    "tags": []
   },
   "outputs": [],
   "source": [
    "import pandas as pd\n",
    "import numpy as np\n",
    "import matplotlib.pyplot as plt\n",
    "import seaborn as sns\n",
    "from sklearn.datasets import load_boston"
   ]
  },
  {
   "cell_type": "code",
   "execution_count": 2,
   "id": "1133bdb3",
   "metadata": {
    "execution": {
     "iopub.execute_input": "2022-09-24T02:57:41.866264Z",
     "iopub.status.busy": "2022-09-24T02:57:41.865802Z",
     "iopub.status.idle": "2022-09-24T02:57:41.882896Z",
     "shell.execute_reply": "2022-09-24T02:57:41.881634Z"
    },
    "papermill": {
     "duration": 0.028435,
     "end_time": "2022-09-24T02:57:41.886877",
     "exception": false,
     "start_time": "2022-09-24T02:57:41.858442",
     "status": "completed"
    },
    "tags": []
   },
   "outputs": [
    {
     "name": "stderr",
     "output_type": "stream",
     "text": [
      "/opt/conda/lib/python3.7/site-packages/sklearn/utils/deprecation.py:87: FutureWarning: Function load_boston is deprecated; `load_boston` is deprecated in 1.0 and will be removed in 1.2.\n",
      "\n",
      "    The Boston housing prices dataset has an ethical problem. You can refer to\n",
      "    the documentation of this function for further details.\n",
      "\n",
      "    The scikit-learn maintainers therefore strongly discourage the use of this\n",
      "    dataset unless the purpose of the code is to study and educate about\n",
      "    ethical issues in data science and machine learning.\n",
      "\n",
      "    In this special case, you can fetch the dataset from the original\n",
      "    source::\n",
      "\n",
      "        import pandas as pd\n",
      "        import numpy as np\n",
      "\n",
      "\n",
      "        data_url = \"http://lib.stat.cmu.edu/datasets/boston\"\n",
      "        raw_df = pd.read_csv(data_url, sep=\"\\s+\", skiprows=22, header=None)\n",
      "        data = np.hstack([raw_df.values[::2, :], raw_df.values[1::2, :2]])\n",
      "        target = raw_df.values[1::2, 2]\n",
      "\n",
      "    Alternative datasets include the California housing dataset (i.e.\n",
      "    :func:`~sklearn.datasets.fetch_california_housing`) and the Ames housing\n",
      "    dataset. You can load the datasets as follows::\n",
      "\n",
      "        from sklearn.datasets import fetch_california_housing\n",
      "        housing = fetch_california_housing()\n",
      "\n",
      "    for the California housing dataset and::\n",
      "\n",
      "        from sklearn.datasets import fetch_openml\n",
      "        housing = fetch_openml(name=\"house_prices\", as_frame=True)\n",
      "\n",
      "    for the Ames housing dataset.\n",
      "    \n",
      "  warnings.warn(msg, category=FutureWarning)\n"
     ]
    }
   ],
   "source": [
    "boston_dataset = load_boston()"
   ]
  },
  {
   "cell_type": "code",
   "execution_count": 3,
   "id": "a0da7ed0",
   "metadata": {
    "execution": {
     "iopub.execute_input": "2022-09-24T02:57:41.898728Z",
     "iopub.status.busy": "2022-09-24T02:57:41.898130Z",
     "iopub.status.idle": "2022-09-24T02:57:41.921025Z",
     "shell.execute_reply": "2022-09-24T02:57:41.919548Z"
    },
    "papermill": {
     "duration": 0.032314,
     "end_time": "2022-09-24T02:57:41.924008",
     "exception": false,
     "start_time": "2022-09-24T02:57:41.891694",
     "status": "completed"
    },
    "tags": []
   },
   "outputs": [],
   "source": [
    "boston = pd.DataFrame(boston_dataset.data, columns=boston_dataset.feature_names)[['RM', 'LSTAT','CRIM']]"
   ]
  },
  {
   "cell_type": "code",
   "execution_count": 4,
   "id": "1985d449",
   "metadata": {
    "execution": {
     "iopub.execute_input": "2022-09-24T02:57:41.935550Z",
     "iopub.status.busy": "2022-09-24T02:57:41.935096Z",
     "iopub.status.idle": "2022-09-24T02:57:42.274486Z",
     "shell.execute_reply": "2022-09-24T02:57:42.273244Z"
    },
    "papermill": {
     "duration": 0.348238,
     "end_time": "2022-09-24T02:57:42.277173",
     "exception": false,
     "start_time": "2022-09-24T02:57:41.928935",
     "status": "completed"
    },
    "tags": []
   },
   "outputs": [
    {
     "name": "stderr",
     "output_type": "stream",
     "text": [
      "/opt/conda/lib/python3.7/site-packages/seaborn/distributions.py:2619: FutureWarning: `distplot` is a deprecated function and will be removed in a future version. Please adapt your code to use either `displot` (a figure-level function with similar flexibility) or `histplot` (an axes-level function for histograms).\n",
      "  warnings.warn(msg, FutureWarning)\n"
     ]
    },
    {
     "data": {
      "text/plain": [
       "<AxesSubplot:xlabel='RM', ylabel='Density'>"
      ]
     },
     "execution_count": 4,
     "metadata": {},
     "output_type": "execute_result"
    },
    {
     "data": {
      "image/png": "[encoded data removed]",
      "text/plain": [
       "<Figure size 432x288 with 1 Axes>"
      ]
     },
     "metadata": {
      "needs_background": "light"
     },
     "output_type": "display_data"
    }
   ],
   "source": [
    "sns.distplot(boston['RM'])"
   ]
  },
  {
   "cell_type": "code",
   "execution_count": 5,
   "id": "8fac7b7e",
   "metadata": {
    "execution": {
     "iopub.execute_input": "2022-09-24T02:57:42.289585Z",
     "iopub.status.busy": "2022-09-24T02:57:42.289078Z",
     "iopub.status.idle": "2022-09-24T02:57:42.463266Z",
     "shell.execute_reply": "2022-09-24T02:57:42.462007Z"
    },
    "papermill": {
     "duration": 0.183249,
     "end_time": "2022-09-24T02:57:42.465877",
     "exception": false,
     "start_time": "2022-09-24T02:57:42.282628",
     "status": "completed"
    },
    "tags": []
   },
   "outputs": [
    {
     "name": "stderr",
     "output_type": "stream",
     "text": [
      "/opt/conda/lib/python3.7/site-packages/seaborn/_decorators.py:43: FutureWarning: Pass the following variable as a keyword arg: x. From version 0.12, the only valid positional argument will be `data`, and passing other arguments without an explicit keyword will result in an error or misinterpretation.\n",
      "  FutureWarning\n"
     ]
    },
    {
     "data": {
      "text/plain": [
       "<AxesSubplot:xlabel='RM'>"
      ]
     },
     "execution_count": 5,
     "metadata": {},
     "output_type": "execute_result"
    },
    {
     "data": {
      "image/png": "[encoded data removed]",
      "text/plain": [
       "<Figure size 432x288 with 1 Axes>"
      ]
     },
     "metadata": {
      "needs_background": "light"
     },
     "output_type": "display_data"
    }
   ],
   "source": [
    "sns.boxplot(boston['RM'])"
   ]
  },
  {
   "cell_type": "code",
   "execution_count": 6,
   "id": "f9d3f412",
   "metadata": {
    "execution": {
     "iopub.execute_input": "2022-09-24T02:57:42.478898Z",
     "iopub.status.busy": "2022-09-24T02:57:42.478414Z",
     "iopub.status.idle": "2022-09-24T02:57:42.484833Z",
     "shell.execute_reply": "2022-09-24T02:57:42.483555Z"
    },
    "papermill": {
     "duration": 0.016315,
     "end_time": "2022-09-24T02:57:42.487706",
     "exception": false,
     "start_time": "2022-09-24T02:57:42.471391",
     "status": "completed"
    },
    "tags": []
   },
   "outputs": [],
   "source": [
    "def find_boundaries(df, variable , distance):\n",
    "  Q1 = df[variable].quantile(0.25)\n",
    "  Q3 = df[variable].quantile(0.75)\n",
    "  IQR = Q3 - Q1\n",
    "  # IQR stands for Inter Quantile Range\n",
    "  LB = Q1 - (IQR* distance)\n",
    "  UB = Q3 + (IQR* distance)\n",
    "  return LB , UB"
   ]
  },
  {
   "cell_type": "code",
   "execution_count": 7,
   "id": "25d8d61e",
   "metadata": {
    "execution": {
     "iopub.execute_input": "2022-09-24T02:57:42.500985Z",
     "iopub.status.busy": "2022-09-24T02:57:42.500366Z",
     "iopub.status.idle": "2022-09-24T02:57:42.507161Z",
     "shell.execute_reply": "2022-09-24T02:57:42.506160Z"
    },
    "papermill": {
     "duration": 0.016642,
     "end_time": "2022-09-24T02:57:42.509790",
     "exception": false,
     "start_time": "2022-09-24T02:57:42.493148",
     "status": "completed"
    },
    "tags": []
   },
   "outputs": [],
   "source": [
    "RM_LB , RM_UB = find_boundaries(boston , 'RM' , 1.3)"
   ]
  },
  {
   "cell_type": "code",
   "execution_count": 8,
   "id": "a86350c4",
   "metadata": {
    "execution": {
     "iopub.execute_input": "2022-09-24T02:57:42.522819Z",
     "iopub.status.busy": "2022-09-24T02:57:42.522045Z",
     "iopub.status.idle": "2022-09-24T02:57:42.528600Z",
     "shell.execute_reply": "2022-09-24T02:57:42.527747Z"
    },
    "papermill": {
     "duration": 0.015608,
     "end_time": "2022-09-24T02:57:42.530822",
     "exception": false,
     "start_time": "2022-09-24T02:57:42.515214",
     "status": "completed"
    },
    "tags": []
   },
   "outputs": [
    {
     "data": {
      "text/plain": [
       "(4.926099999999999, 7.5829)"
      ]
     },
     "execution_count": 8,
     "metadata": {},
     "output_type": "execute_result"
    }
   ],
   "source": [
    "RM_LB , RM_UB"
   ]
  },
  {
   "cell_type": "code",
   "execution_count": 9,
   "id": "098353b9",
   "metadata": {
    "execution": {
     "iopub.execute_input": "2022-09-24T02:57:42.544852Z",
     "iopub.status.busy": "2022-09-24T02:57:42.543968Z",
     "iopub.status.idle": "2022-09-24T02:57:42.551301Z",
     "shell.execute_reply": "2022-09-24T02:57:42.550036Z"
    },
    "papermill": {
     "duration": 0.017202,
     "end_time": "2022-09-24T02:57:42.553904",
     "exception": false,
     "start_time": "2022-09-24T02:57:42.536702",
     "status": "completed"
    },
    "tags": []
   },
   "outputs": [],
   "source": [
    "outliers_RM = np.where(boston['RM'] > RM_UB , True , np.where(boston['RM'] < RM_LB , True , False))"
   ]
  },
  {
   "cell_type": "code",
   "execution_count": 10,
   "id": "65105acb",
   "metadata": {
    "execution": {
     "iopub.execute_input": "2022-09-24T02:57:42.567150Z",
     "iopub.status.busy": "2022-09-24T02:57:42.566677Z",
     "iopub.status.idle": "2022-09-24T02:57:42.575234Z",
     "shell.execute_reply": "2022-09-24T02:57:42.574313Z"
    },
    "papermill": {
     "duration": 0.017873,
     "end_time": "2022-09-24T02:57:42.577550",
     "exception": false,
     "start_time": "2022-09-24T02:57:42.559677",
     "status": "completed"
    },
    "tags": []
   },
   "outputs": [
    {
     "data": {
      "text/plain": [
       "array([False, False, False, False, False, False, False, False, False,\n",
       "       False, False, False, False, False, False, False, False, False,\n",
       "       False, False, False, False, False, False, False, False, False,\n",
       "       False, False, False, False, False, False, False, False, False,\n",
       "       False, False, False, False, False, False, False, False, False,\n",
       "       False, False, False, False, False, False, False, False, False,\n",
       "       False, False, False, False, False, False, False, False, False,\n",
       "       False, False, False, False, False, False, False, False, False,\n",
       "       False, False, False, False, False, False, False, False, False,\n",
       "       False, False, False, False, False, False, False, False, False,\n",
       "       False, False, False, False, False, False, False,  True,  True,\n",
       "       False, False, False, False, False, False, False, False, False,\n",
       "       False, False, False, False, False, False, False, False, False,\n",
       "       False, False, False, False, False, False, False, False, False,\n",
       "       False, False, False, False, False, False, False, False, False,\n",
       "       False, False, False, False, False, False, False, False, False,\n",
       "        True, False, False,  True, False, False, False, False, False,\n",
       "       False, False, False, False, False, False, False, False, False,\n",
       "        True,  True, False, False,  True, False, False, False, False,\n",
       "       False, False, False, False, False, False, False, False, False,\n",
       "        True, False, False, False, False, False,  True, False, False,\n",
       "       False, False, False, False, False, False,  True, False, False,\n",
       "       False, False, False, False,  True,  True,  True, False, False,\n",
       "       False, False, False, False, False, False, False, False, False,\n",
       "       False, False, False, False, False, False, False, False,  True,\n",
       "        True,  True, False,  True, False, False, False,  True,  True,\n",
       "       False, False, False, False, False, False, False, False, False,\n",
       "       False, False, False, False, False, False, False, False, False,\n",
       "       False,  True, False, False, False,  True, False, False, False,\n",
       "       False,  True, False, False, False, False,  True, False, False,\n",
       "       False, False, False,  True, False, False, False, False, False,\n",
       "       False,  True, False,  True,  True, False, False, False, False,\n",
       "       False, False, False, False, False, False, False, False, False,\n",
       "       False, False, False, False, False, False, False, False, False,\n",
       "       False, False, False, False, False, False, False, False, False,\n",
       "       False, False, False, False, False, False, False, False, False,\n",
       "       False, False, False, False, False, False, False, False, False,\n",
       "       False, False, False, False, False, False, False, False, False,\n",
       "       False, False, False, False, False, False, False, False, False,\n",
       "       False, False, False, False, False, False, False, False, False,\n",
       "       False, False, False, False,  True,  True, False,  True, False,\n",
       "       False, False, False, False,  True,  True, False, False, False,\n",
       "       False, False, False, False, False, False,  True, False,  True,\n",
       "       False,  True, False, False, False, False, False, False, False,\n",
       "       False, False, False, False, False, False, False, False, False,\n",
       "       False,  True, False, False, False, False, False,  True, False,\n",
       "        True, False, False, False, False, False, False, False, False,\n",
       "       False, False, False, False, False, False, False, False, False,\n",
       "       False, False, False, False, False, False, False, False, False,\n",
       "       False, False, False, False, False, False, False, False, False,\n",
       "       False, False, False, False, False, False, False, False, False,\n",
       "       False, False, False, False, False, False, False, False, False,\n",
       "       False, False, False, False, False, False, False, False, False,\n",
       "       False, False, False, False, False, False, False, False, False,\n",
       "       False, False, False, False, False, False, False, False, False,\n",
       "       False, False, False, False, False, False, False, False, False,\n",
       "       False, False])"
      ]
     },
     "execution_count": 10,
     "metadata": {},
     "output_type": "execute_result"
    }
   ],
   "source": [
    "outliers_RM"
   ]
  },
  {
   "cell_type": "code",
   "execution_count": 11,
   "id": "d7000878",
   "metadata": {
    "execution": {
     "iopub.execute_input": "2022-09-24T02:57:42.591805Z",
     "iopub.status.busy": "2022-09-24T02:57:42.590610Z",
     "iopub.status.idle": "2022-09-24T02:57:42.602437Z",
     "shell.execute_reply": "2022-09-24T02:57:42.601275Z"
    },
    "papermill": {
     "duration": 0.021537,
     "end_time": "2022-09-24T02:57:42.605023",
     "exception": false,
     "start_time": "2022-09-24T02:57:42.583486",
     "status": "completed"
    },
    "tags": []
   },
   "outputs": [
    {
     "data": {
      "text/plain": [
       "97     8.069\n",
       "98     7.820\n",
       "144    4.903\n",
       "147    4.926\n",
       "162    7.802\n",
       "163    8.375\n",
       "166    7.929\n",
       "180    7.765\n",
       "186    7.831\n",
       "195    7.875\n",
       "202    7.610\n",
       "203    7.853\n",
       "204    8.034\n",
       "224    8.266\n",
       "225    8.725\n",
       "226    8.040\n",
       "228    7.686\n",
       "232    8.337\n",
       "233    8.247\n",
       "253    8.259\n",
       "257    8.704\n",
       "262    8.398\n",
       "267    8.297\n",
       "273    7.691\n",
       "280    7.820\n",
       "282    7.645\n",
       "283    7.923\n",
       "364    8.780\n",
       "365    3.561\n",
       "367    3.863\n",
       "373    4.906\n",
       "374    4.138\n",
       "384    4.368\n",
       "386    4.652\n",
       "388    4.880\n",
       "406    4.138\n",
       "412    4.628\n",
       "414    4.519\n",
       "Name: RM, dtype: float64"
      ]
     },
     "execution_count": 11,
     "metadata": {},
     "output_type": "execute_result"
    }
   ],
   "source": [
    "boston['RM'][outliers_RM]"
   ]
  },
  {
   "cell_type": "code",
   "execution_count": 12,
   "id": "ca0c7d51",
   "metadata": {
    "execution": {
     "iopub.execute_input": "2022-09-24T02:57:42.619043Z",
     "iopub.status.busy": "2022-09-24T02:57:42.618472Z",
     "iopub.status.idle": "2022-09-24T02:57:42.626441Z",
     "shell.execute_reply": "2022-09-24T02:57:42.625403Z"
    },
    "papermill": {
     "duration": 0.017783,
     "end_time": "2022-09-24T02:57:42.628699",
     "exception": false,
     "start_time": "2022-09-24T02:57:42.610916",
     "status": "completed"
    },
    "tags": []
   },
   "outputs": [
    {
     "data": {
      "text/plain": [
       "38"
      ]
     },
     "execution_count": 12,
     "metadata": {},
     "output_type": "execute_result"
    }
   ],
   "source": [
    "boston['RM'][outliers_RM].count()"
   ]
  },
  {
   "cell_type": "code",
   "execution_count": 13,
   "id": "e10efc3f",
   "metadata": {
    "execution": {
     "iopub.execute_input": "2022-09-24T02:57:42.642790Z",
     "iopub.status.busy": "2022-09-24T02:57:42.641944Z",
     "iopub.status.idle": "2022-09-24T02:57:42.648209Z",
     "shell.execute_reply": "2022-09-24T02:57:42.647033Z"
    },
    "papermill": {
     "duration": 0.015937,
     "end_time": "2022-09-24T02:57:42.650637",
     "exception": false,
     "start_time": "2022-09-24T02:57:42.634700",
     "status": "completed"
    },
    "tags": []
   },
   "outputs": [],
   "source": [
    "boston_trimed_data = boston.loc[~(outliers_RM)]"
   ]
  },
  {
   "cell_type": "code",
   "execution_count": 14,
   "id": "ad190f4f",
   "metadata": {
    "execution": {
     "iopub.execute_input": "2022-09-24T02:57:42.664501Z",
     "iopub.status.busy": "2022-09-24T02:57:42.664060Z",
     "iopub.status.idle": "2022-09-24T02:57:42.682025Z",
     "shell.execute_reply": "2022-09-24T02:57:42.680995Z"
    },
    "papermill": {
     "duration": 0.027847,
     "end_time": "2022-09-24T02:57:42.684509",
     "exception": false,
     "start_time": "2022-09-24T02:57:42.656662",
     "status": "completed"
    },
    "tags": []
   },
   "outputs": [
    {
     "data": {
      "text/html": [
       "<div>\n",
       "<style scoped>\n",
       "    .dataframe tbody tr th:only-of-type {\n",
       "        vertical-align: middle;\n",
       "    }\n",
       "\n",
       "    .dataframe tbody tr th {\n",
       "        vertical-align: top;\n",
       "    }\n",
       "\n",
       "    .dataframe thead th {\n",
       "        text-align: right;\n",
       "    }\n",
       "</style>\n",
       "<table border=\"1\" class=\"dataframe\">\n",
       "  <thead>\n",
       "    <tr style=\"text-align: right;\">\n",
       "      <th></th>\n",
       "      <th>RM</th>\n",
       "      <th>LSTAT</th>\n",
       "      <th>CRIM</th>\n",
       "    </tr>\n",
       "  </thead>\n",
       "  <tbody>\n",
       "    <tr>\n",
       "      <th>0</th>\n",
       "      <td>6.575</td>\n",
       "      <td>4.98</td>\n",
       "      <td>0.00632</td>\n",
       "    </tr>\n",
       "    <tr>\n",
       "      <th>1</th>\n",
       "      <td>6.421</td>\n",
       "      <td>9.14</td>\n",
       "      <td>0.02731</td>\n",
       "    </tr>\n",
       "    <tr>\n",
       "      <th>2</th>\n",
       "      <td>7.185</td>\n",
       "      <td>4.03</td>\n",
       "      <td>0.02729</td>\n",
       "    </tr>\n",
       "    <tr>\n",
       "      <th>3</th>\n",
       "      <td>6.998</td>\n",
       "      <td>2.94</td>\n",
       "      <td>0.03237</td>\n",
       "    </tr>\n",
       "    <tr>\n",
       "      <th>4</th>\n",
       "      <td>7.147</td>\n",
       "      <td>5.33</td>\n",
       "      <td>0.06905</td>\n",
       "    </tr>\n",
       "    <tr>\n",
       "      <th>...</th>\n",
       "      <td>...</td>\n",
       "      <td>...</td>\n",
       "      <td>...</td>\n",
       "    </tr>\n",
       "    <tr>\n",
       "      <th>501</th>\n",
       "      <td>6.593</td>\n",
       "      <td>9.67</td>\n",
       "      <td>0.06263</td>\n",
       "    </tr>\n",
       "    <tr>\n",
       "      <th>502</th>\n",
       "      <td>6.120</td>\n",
       "      <td>9.08</td>\n",
       "      <td>0.04527</td>\n",
       "    </tr>\n",
       "    <tr>\n",
       "      <th>503</th>\n",
       "      <td>6.976</td>\n",
       "      <td>5.64</td>\n",
       "      <td>0.06076</td>\n",
       "    </tr>\n",
       "    <tr>\n",
       "      <th>504</th>\n",
       "      <td>6.794</td>\n",
       "      <td>6.48</td>\n",
       "      <td>0.10959</td>\n",
       "    </tr>\n",
       "    <tr>\n",
       "      <th>505</th>\n",
       "      <td>6.030</td>\n",
       "      <td>7.88</td>\n",
       "      <td>0.04741</td>\n",
       "    </tr>\n",
       "  </tbody>\n",
       "</table>\n",
       "<p>468 rows × 3 columns</p>\n",
       "</div>"
      ],
      "text/plain": [
       "        RM  LSTAT     CRIM\n",
       "0    6.575   4.98  0.00632\n",
       "1    6.421   9.14  0.02731\n",
       "2    7.185   4.03  0.02729\n",
       "3    6.998   2.94  0.03237\n",
       "4    7.147   5.33  0.06905\n",
       "..     ...    ...      ...\n",
       "501  6.593   9.67  0.06263\n",
       "502  6.120   9.08  0.04527\n",
       "503  6.976   5.64  0.06076\n",
       "504  6.794   6.48  0.10959\n",
       "505  6.030   7.88  0.04741\n",
       "\n",
       "[468 rows x 3 columns]"
      ]
     },
     "execution_count": 14,
     "metadata": {},
     "output_type": "execute_result"
    }
   ],
   "source": [
    "boston_trimed_data"
   ]
  },
  {
   "cell_type": "code",
   "execution_count": 15,
   "id": "80d79352",
   "metadata": {
    "execution": {
     "iopub.execute_input": "2022-09-24T02:57:42.699683Z",
     "iopub.status.busy": "2022-09-24T02:57:42.698712Z",
     "iopub.status.idle": "2022-09-24T02:57:42.872947Z",
     "shell.execute_reply": "2022-09-24T02:57:42.871800Z"
    },
    "papermill": {
     "duration": 0.185114,
     "end_time": "2022-09-24T02:57:42.876177",
     "exception": false,
     "start_time": "2022-09-24T02:57:42.691063",
     "status": "completed"
    },
    "tags": []
   },
   "outputs": [
    {
     "name": "stderr",
     "output_type": "stream",
     "text": [
      "/opt/conda/lib/python3.7/site-packages/seaborn/_decorators.py:43: FutureWarning: Pass the following variable as a keyword arg: x. From version 0.12, the only valid positional argument will be `data`, and passing other arguments without an explicit keyword will result in an error or misinterpretation.\n",
      "  FutureWarning\n"
     ]
    },
    {
     "data": {
      "text/plain": [
       "<AxesSubplot:xlabel='RM'>"
      ]
     },
     "execution_count": 15,
     "metadata": {},
     "output_type": "execute_result"
    },
    {
     "data": {
      "image/png": "[encoded data removed]",
      "text/plain": [
       "<Figure size 432x288 with 1 Axes>"
      ]
     },
     "metadata": {
      "needs_background": "light"
     },
     "output_type": "display_data"
    }
   ],
   "source": [
    "sns.boxplot(boston['RM'])"
   ]
  }
 ],
 "metadata": {
  "kernelspec": {
   "display_name": "Python 3",
   "language": "python",
   "name": "python3"
  },
  "language_info": {
   "codemirror_mode": {
    "name": "ipython",
    "version": 3
   },
   "file_extension": ".py",
   "mimetype": "text/x-python",
   "name": "python",
   "nbconvert_exporter": "python",
   "pygments_lexer": "ipython3",
   "version": "3.7.12"
  },
  "papermill": {
   "default_parameters": {},
   "duration": 13.829849,
   "end_time": "2022-09-24T02:57:43.709675",
   "environment_variables": {},
   "exception": null,
   "input_path": "__notebook__.ipynb",
   "output_path": "__notebook__.ipynb",
   "parameters": {},
   "start_time": "2022-09-24T02:57:29.879826",
   "version": "2.3.4"
  }
 },
 "nbformat": 4,
 "nbformat_minor": 5
}
